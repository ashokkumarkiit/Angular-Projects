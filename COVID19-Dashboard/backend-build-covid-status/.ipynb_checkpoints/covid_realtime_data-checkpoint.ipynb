{
 "cells": [
  {
   "cell_type": "code",
   "execution_count": 1,
   "metadata": {},
   "outputs": [],
   "source": [
    "import csv\n",
    "from urllib.request import urlopen\n",
    "import psycopg2\n",
    "from psycopg2.extensions import ISOLATION_LEVEL_AUTOCOMMIT \n",
    "import pandas as pd\n",
    "import io\n",
    "import requests\n",
    "from datetime import datetime, timedelta\n",
    "import time\n",
    "from datetime import date"
   ]
  },
  {
   "cell_type": "code",
   "execution_count": 2,
   "metadata": {},
   "outputs": [],
   "source": [
    "## *****NOTE -\n",
    "## *****This Needs to be Executed only once of the COVID_19 dab is not present/ postgres is freshly installed.\n",
    "\n",
    "# Connecting to default \"postgres\" database and using it we create covid_19 database\n",
    "db_connection = psycopg2.connect(host='127.0.0.1',dbname=\"postgres\", user=\"postgres\" , password=\"ashok0898\")\n",
    "\n",
    "db_connection.set_isolation_level(ISOLATION_LEVEL_AUTOCOMMIT) \n",
    "\n",
    "cursor = db_connection.cursor()\n",
    "\n",
    "# Creating \"covid_19\" database\n",
    "#cursor.execute(\"CREATE DATABASE covid_19;\")\n",
    "\n"
   ]
  },
  {
   "cell_type": "code",
   "execution_count": 3,
   "metadata": {},
   "outputs": [],
   "source": [
    "#Once the covdid 19 DB is created we connect to \"covid_19\"\n",
    "\n",
    "db_connection = psycopg2.connect(host='127.0.0.1',dbname=\"covid_19\", user=\"postgres\" , password=\"ashok0898\")\n",
    "\n",
    "cursor = db_connection.cursor()\n",
    "\n",
    "db_connection.commit()"
   ]
  },
  {
   "cell_type": "code",
   "execution_count": 4,
   "metadata": {},
   "outputs": [],
   "source": [
    "cursor.execute(\"DROP TABLE IF EXISTS covid_daily_report\")\n",
    "cursor.execute(\"DROP TABLE IF EXISTS covid_timeseries_report\")"
   ]
  },
  {
   "cell_type": "code",
   "execution_count": 5,
   "metadata": {},
   "outputs": [],
   "source": [
    "db_connection.commit()"
   ]
  },
  {
   "cell_type": "code",
   "execution_count": 6,
   "metadata": {},
   "outputs": [],
   "source": [
    "cursor.execute(\"\"\"CREATE TABLE covid_daily_report(\n",
    "                province_state TEXT,\n",
    "                country_region TEXT,\n",
    "                last_updated timestamp,\n",
    "                confirmed INTEGER,\n",
    "                deaths INTEGER,\n",
    "                recovered INTEGER,\n",
    "                latitude FLOAT,\n",
    "                longitude FLOAT);\"\"\")\n",
    "\n",
    "cursor.execute(\"\"\"CREATE TABLE covid_timeseries_report(\n",
    "                province_state TEXT,\n",
    "                country_region TEXT,\n",
    "                latitude FLOAT,\n",
    "                longitude FLOAT,\n",
    "                report_date TEXT,\n",
    "                total INTEGER,\n",
    "                category TEXT);\"\"\")"
   ]
  },
  {
   "cell_type": "code",
   "execution_count": 13,
   "metadata": {},
   "outputs": [
    {
     "data": {
      "text/plain": [
       "'lkajsdkl.'"
      ]
     },
     "execution_count": 13,
     "metadata": {},
     "output_type": "execute_result"
    }
   ],
   "source": [
    "db_connection.commit()\n",
    "\n",
    "\n",
    "utc_datetime = datetime.utcnow()-timedelta(days=1)\n",
    "utc_datetime.strftime(\"%m-%d-%Y\")\n",
    "\n",
    "x = 'lkajsdkl. '\n",
    "x.strip()"
   ]
  },
  {
   "cell_type": "markdown",
   "metadata": {},
   "source": [
    "## Fetching daily report data and capturing in \"covid_daily_report\"\n",
    "\n",
    "- Reports executes in every 1 hour."
   ]
  },
  {
   "cell_type": "code",
   "execution_count": 14,
   "metadata": {},
   "outputs": [
    {
     "name": "stdout",
     "output_type": "stream",
     "text": [
      "https://raw.githubusercontent.com/CSSEGISandData/COVID-19/master/csse_covid_19_data/csse_covid_19_daily_reports/04-05-2020.csv\n"
     ]
    },
    {
     "ename": "AttributeError",
     "evalue": "'float' object has no attribute 'strip'",
     "output_type": "error",
     "traceback": [
      "\u001b[0;31m---------------------------------------------------------------------------\u001b[0m",
      "\u001b[0;31mAttributeError\u001b[0m                            Traceback (most recent call last)",
      "\u001b[0;32m<ipython-input-14-9a4bbec4bae4>\u001b[0m in \u001b[0;36m<module>\u001b[0;34m\u001b[0m\n\u001b[1;32m     42\u001b[0m         \u001b[0;32mif\u001b[0m\u001b[0;34m(\u001b[0m\u001b[0mcountry_region\u001b[0m \u001b[0;34m!=\u001b[0m \u001b[0;34m''\u001b[0m\u001b[0;34m)\u001b[0m\u001b[0;34m:\u001b[0m\u001b[0;34m\u001b[0m\u001b[0;34m\u001b[0m\u001b[0m\n\u001b[1;32m     43\u001b[0m             \u001b[0mcountry_region\u001b[0m \u001b[0;34m=\u001b[0m \u001b[0mcountry_region\u001b[0m\u001b[0;34m.\u001b[0m\u001b[0mreplace\u001b[0m\u001b[0;34m(\u001b[0m\u001b[0;34m\"'\"\u001b[0m\u001b[0;34m,\u001b[0m\u001b[0;34m\"''\"\u001b[0m\u001b[0;34m)\u001b[0m\u001b[0;34m\u001b[0m\u001b[0;34m\u001b[0m\u001b[0m\n\u001b[0;32m---> 44\u001b[0;31m         \u001b[0;32mif\u001b[0m\u001b[0;34m(\u001b[0m\u001b[0mlatitude\u001b[0m\u001b[0;34m.\u001b[0m\u001b[0mstrip\u001b[0m\u001b[0;34m(\u001b[0m\u001b[0;34m)\u001b[0m \u001b[0;34m==\u001b[0m \u001b[0;34m''\u001b[0m\u001b[0;34m)\u001b[0m\u001b[0;34m:\u001b[0m\u001b[0;34m\u001b[0m\u001b[0;34m\u001b[0m\u001b[0m\n\u001b[0m\u001b[1;32m     45\u001b[0m             \u001b[0mlatitude\u001b[0m \u001b[0;34m=\u001b[0m \u001b[0;36m0.0\u001b[0m\u001b[0;34m\u001b[0m\u001b[0;34m\u001b[0m\u001b[0m\n\u001b[1;32m     46\u001b[0m         \u001b[0;32mif\u001b[0m\u001b[0;34m(\u001b[0m\u001b[0mlongitude\u001b[0m\u001b[0;34m.\u001b[0m\u001b[0mstrip\u001b[0m\u001b[0;34m(\u001b[0m\u001b[0;34m)\u001b[0m \u001b[0;34m==\u001b[0m \u001b[0;34m''\u001b[0m\u001b[0;34m)\u001b[0m\u001b[0;34m:\u001b[0m\u001b[0;34m\u001b[0m\u001b[0;34m\u001b[0m\u001b[0m\n",
      "\u001b[0;31mAttributeError\u001b[0m: 'float' object has no attribute 'strip'"
     ]
    }
   ],
   "source": [
    "\n",
    "while True:\n",
    "    \n",
    "    #today = date.today() - timedelta(days=1)\n",
    "    #dt = today.strftime(\"%m-%d-%Y\")\n",
    "    \n",
    "    utc_datetime = datetime.utcnow()-timedelta(days=1)\n",
    "    dt = utc_datetime.strftime(\"%m-%d-%Y\")\n",
    "    \n",
    "    url=\"https://raw.githubusercontent.com/CSSEGISandData/COVID-19/master/csse_covid_19_data/csse_covid_19_daily_reports/\"+dt+\".csv\"\n",
    "    print(url)\n",
    "    s=requests.get(url).content\n",
    "    df=pd.read_csv(io.StringIO(s.decode('utf-8')))\n",
    "    df = df.rename(columns={\n",
    "        \"Province_State\": \"province_state\",\n",
    "        \"Country_Region\": \"country_region\",\n",
    "        \"Last_Update\": \"last_updated\",\n",
    "        \"Confirmed\": \"confirmed\",\n",
    "        \"Deaths\": \"deaths\",\n",
    "        \"Recovered\": \"recovered\",\n",
    "        \"Lat\": \"latitude\",\n",
    "        \"Long_\": \"longitude\"\n",
    "    })\n",
    "    df.drop(columns=['FIPS', 'Admin2', 'Active', 'Combined_Key'])\n",
    "    df = df.fillna('')\n",
    "    df.to_csv('covid_19_report_'+dt+'.csv',sep=',', encoding='utf-8', index=False)\n",
    "    \n",
    "    # delete existing data in the table\n",
    "    cursor.execute(\"DELETE FROM covid_daily_report\")\n",
    "    # Saving the changes\n",
    "    db_connection.commit()\n",
    "    \n",
    "    # Inserting each row\n",
    "    for row in df.iterrows():\n",
    "        province_state = row[1]['province_state']\n",
    "        country_region = row[1]['country_region']\n",
    "        latitude = row[1]['latitude']\n",
    "        longitude = row[1]['longitude']\n",
    "\n",
    "        # Incase the 's is present in the string it adds an escape character i.e. ''\n",
    "        if(province_state != ''):\n",
    "            province_state = province_state.replace(\"'\",\"''\")\n",
    "        if(country_region != ''):\n",
    "            country_region = country_region.replace(\"'\",\"''\")\n",
    "        if(latitude == ''):\n",
    "            latitude = 0.0\n",
    "        if(longitude == ''):\n",
    "            longitude = 0.0\n",
    "        \n",
    "\n",
    "        query = \"\"\"\n",
    "        INSERT into covid_daily_report(province_state, country_region,\n",
    "        last_updated, confirmed,deaths, recovered, latitude, longitude) \n",
    "        values('%s','%s',TIMESTAMP '%s',%s,%s,%s,%s,%s);\n",
    "        \"\"\" % (province_state, country_region,\n",
    "               datetime.fromisoformat(row[1]['last_updated']),\n",
    "              row[1]['confirmed'], row[1]['deaths'], row[1]['recovered'],\n",
    "              latitude, longitude)\n",
    "        cursor.execute(query)\n",
    "    \n",
    "    # Close the connection - Saving the changes\n",
    "    db_connection.commit()\n",
    "    \n",
    "    # Sleep for 3 minutes; divvy updates its stations status every 2 minutes\n",
    "    now = datetime.now()\n",
    "    timedate = ( (str(now.now())).split('.')[0]).split(' ')[0] + ' ' + ((str(now.now())).split('.')[0]).split(' ')[1]\n",
    " \n",
    "    print(timedate, ' : Fetched data from GIT for Covid Daily Report and Going to sleep for 1 hour now ...')\n",
    "    time.sleep(60*60)    \n",
    "    continue\n"
   ]
  },
  {
   "cell_type": "markdown",
   "metadata": {},
   "source": [
    "## Fetching Timeseries data and capturing in \"covid_timeseries_report\"\n",
    "\n",
    "- Reports executes in every 1 hour."
   ]
  },
  {
   "cell_type": "code",
   "execution_count": 12,
   "metadata": {},
   "outputs": [
    {
     "name": "stdout",
     "output_type": "stream",
     "text": [
      "Pulling data from server - confirmed\n",
      "Started inserting data to DB - confirmed\n",
      "Ended inserting data to DB - confirmed\n",
      "Pulling data from server - deaths\n",
      "Started inserting data to DB - deaths\n",
      "Ended inserting data to DB - deaths\n",
      "Pulling data from server - recovered\n",
      "Started inserting data to DB - recovered\n",
      "Ended inserting data to DB - recovered\n",
      "2020-03-30 21:56:14  : Fetched data from GIT for Covid Timeseries Report and Going to sleep for 1 hour now ...\n"
     ]
    },
    {
     "ename": "KeyboardInterrupt",
     "evalue": "",
     "output_type": "error",
     "traceback": [
      "\u001b[0;31m---------------------------------------------------------------------------\u001b[0m",
      "\u001b[0;31mKeyboardInterrupt\u001b[0m                         Traceback (most recent call last)",
      "\u001b[0;32m<ipython-input-12-f2403d2b803e>\u001b[0m in \u001b[0;36m<module>\u001b[0;34m\u001b[0m\n\u001b[1;32m     67\u001b[0m \u001b[0;34m\u001b[0m\u001b[0m\n\u001b[1;32m     68\u001b[0m     \u001b[0mprint\u001b[0m\u001b[0;34m(\u001b[0m\u001b[0mtimedate\u001b[0m\u001b[0;34m,\u001b[0m \u001b[0;34m' : Fetched data from GIT for Covid Timeseries Report and Going to sleep for 1 hour now ...'\u001b[0m\u001b[0;34m)\u001b[0m\u001b[0;34m\u001b[0m\u001b[0;34m\u001b[0m\u001b[0m\n\u001b[0;32m---> 69\u001b[0;31m     \u001b[0mtime\u001b[0m\u001b[0;34m.\u001b[0m\u001b[0msleep\u001b[0m\u001b[0;34m(\u001b[0m\u001b[0;36m60\u001b[0m\u001b[0;34m*\u001b[0m\u001b[0;36m60\u001b[0m\u001b[0;34m)\u001b[0m\u001b[0;34m\u001b[0m\u001b[0;34m\u001b[0m\u001b[0m\n\u001b[0m\u001b[1;32m     70\u001b[0m     \u001b[0;32mcontinue\u001b[0m\u001b[0;34m\u001b[0m\u001b[0;34m\u001b[0m\u001b[0m\n\u001b[1;32m     71\u001b[0m \u001b[0;34m\u001b[0m\u001b[0m\n",
      "\u001b[0;31mKeyboardInterrupt\u001b[0m: "
     ]
    }
   ],
   "source": [
    "while True:\n",
    "\n",
    "    # delete existing data in the table\n",
    "    cursor.execute(\"DELETE FROM covid_timeseries_report\")\n",
    "    # Saving the changes\n",
    "    db_connection.commit()\n",
    "    category = ['confirmed','deaths','recovered']\n",
    "    for cat in category:\n",
    "        print(\"Pulling data from server - \" + cat)\n",
    "            #\"https://raw.githubusercontent.com/CSSEGISandData/COVID-19/master/csse_covid_19_data/csse_covid_19_time_series/time_series_covid19_confirmed_global.csv\n",
    "        url=\"https://raw.githubusercontent.com/CSSEGISandData/COVID-19/master/csse_covid_19_data/csse_covid_19_time_series/time_series_covid19_\"+cat+\"_global.csv\"\n",
    "        s=requests.get(url).content\n",
    "        df_conf=pd.read_csv(io.StringIO(s.decode('utf-8')))\n",
    "        df_conf = df_conf.rename(columns={\n",
    "            \"Province/State\": \"province_state\",\n",
    "            \"Country/Region\": \"country_region\",\n",
    "            \"Lat\": \"latitude\",\n",
    "            \"Long\": \"longitude\"\n",
    "        })\n",
    "        df_conf = df_conf.fillna('')\n",
    "        \n",
    "        df_conf.to_csv('time_series_19-covid-'+cat+'.csv',sep=',', encoding='utf-8', index=False)\n",
    "        \n",
    "        # Getting all the dates as list\n",
    "        dates_col = df_conf.columns[4:len(df_conf.columns)]\n",
    "\n",
    "        df_datewise= df_conf[['province_state', 'country_region', 'latitude', 'longitude']].copy()\n",
    "\n",
    "        print(\"Started inserting data to DB - \" + cat)\n",
    "        for d in dates_col:\n",
    "            lst_count = list(df_conf[[d][0]])\n",
    "            lst_same_date = [list(df_conf[[d]])[0] for i in range(len(lst_count))]\n",
    "            lst_data_type = [cat for i in range(len(lst_count))]\n",
    "            df_datewise['report_date'] = lst_same_date\n",
    "            df_datewise['total'] = lst_count\n",
    "            df_datewise['category'] = lst_data_type\n",
    "\n",
    "            # Inserting data to database datewise \n",
    "            # Inserting each row\n",
    "            for row in df_datewise.iterrows():\n",
    "                #print(row[1])\n",
    "                province_state = row[1]['province_state']\n",
    "                country_region = row[1]['country_region']\n",
    "\n",
    "                # Incase the 's is present in the string it adds an escape character i.e. ''\n",
    "                if(province_state != ''):\n",
    "                    province_state = province_state.replace(\"'\",\"''\")\n",
    "                if(country_region != ''):\n",
    "                    country_region = country_region.replace(\"'\",\"''\")\n",
    "\n",
    "                query = \"\"\"\n",
    "                INSERT into covid_timeseries_report(province_state, \n",
    "                    country_region, latitude, longitude,\n",
    "                    report_date, total, category) \n",
    "                values('%s','%s',%s,%s,'%s',%s,'%s');\n",
    "                \"\"\" % (province_state, country_region,\n",
    "                       row[1]['latitude'], row[1]['longitude'],\n",
    "                      row[1]['report_date'], row[1]['total'], row[1]['category'])\n",
    "                cursor.execute(query)\n",
    "        print(\"Ended inserting data to DB - \" + cat)\n",
    "\n",
    "        db_connection.commit()\n",
    "    \n",
    "    # Sleep for 1 hour;\n",
    "    now = datetime.now()\n",
    "    timedate = ( (str(now.now())).split('.')[0]).split(' ')[0] + ' ' + ((str(now.now())).split('.')[0]).split(' ')[1]\n",
    " \n",
    "    print(timedate, ' : Fetched data from GIT for Covid Timeseries Report and Going to sleep for 1 hour now ...')\n",
    "    time.sleep(60*60)    \n",
    "    continue\n",
    "\n"
   ]
  }
 ],
 "metadata": {
  "kernelspec": {
   "display_name": "Python 3",
   "language": "python",
   "name": "python3"
  },
  "language_info": {
   "codemirror_mode": {
    "name": "ipython",
    "version": 3
   },
   "file_extension": ".py",
   "mimetype": "text/x-python",
   "name": "python",
   "nbconvert_exporter": "python",
   "pygments_lexer": "ipython3",
   "version": "3.7.4"
  }
 },
 "nbformat": 4,
 "nbformat_minor": 2
}
