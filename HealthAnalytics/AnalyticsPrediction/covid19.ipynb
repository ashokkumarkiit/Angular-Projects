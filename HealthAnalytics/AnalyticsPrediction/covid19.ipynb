{
 "cells": [
  {
   "cell_type": "code",
   "execution_count": 2,
   "metadata": {},
   "outputs": [],
   "source": [
    "import csv\n",
    "from urllib.request import urlopen\n",
    "import psycopg2\n",
    "from psycopg2.extensions import ISOLATION_LEVEL_AUTOCOMMIT \n",
    "import pandas as pd\n",
    "import io\n",
    "import requests\n",
    "from datetime import datetime, timedelta\n",
    "import time\n",
    "from datetime import date"
   ]
  },
  {
   "cell_type": "code",
   "execution_count": 3,
   "metadata": {},
   "outputs": [],
   "source": [
    "## *****NOTE -\n",
    "## *****This Needs to be Executed only once of the COVID_19, if DB is not present/ postgres is freshly installed.\n",
    "\n",
    "# Connecting to default \"postgres\" database and using it we create covid_19 database\n",
    "db_connection = psycopg2.connect(host='127.0.0.1',dbname=\"postgres\", user=\"postgres\" , password=\"root\")\n",
    "\n",
    "db_connection.set_isolation_level(ISOLATION_LEVEL_AUTOCOMMIT) \n",
    "\n",
    "cursor = db_connection.cursor()\n",
    "\n",
    "# Creating \"covid_19\" database\n",
    "#cursor.execute(\"CREATE DATABASE covid_19;\")\n",
    "\n"
   ]
  },
  {
   "cell_type": "code",
   "execution_count": 4,
   "metadata": {},
   "outputs": [],
   "source": [
    "#Once the covdid 19 DB is created we connect to \"covid_19\"\n",
    "\n",
    "db_connection = psycopg2.connect(host='127.0.0.1',dbname=\"uml_project\", user=\"postgres\" , password=\"root\")\n",
    "\n",
    "cursor = db_connection.cursor()\n",
    "\n",
    "db_connection.commit()"
   ]
  },
  {
   "cell_type": "code",
   "execution_count": 5,
   "metadata": {},
   "outputs": [],
   "source": [
    "cursor.execute(\"DROP TABLE IF EXISTS health_analytics_covid_data\")"
   ]
  },
  {
   "cell_type": "code",
   "execution_count": 6,
   "metadata": {},
   "outputs": [],
   "source": [
    "db_connection.commit()"
   ]
  },
  {
   "cell_type": "code",
   "execution_count": 7,
   "metadata": {},
   "outputs": [],
   "source": [
    "\n",
    "cursor.execute(\"\"\"CREATE TABLE health_analytics_covid_data(\n",
    "                province_state TEXT,\n",
    "                country_region TEXT,\n",
    "                latitude FLOAT,\n",
    "                longitude FLOAT,\n",
    "                report_date TEXT,\n",
    "                total INTEGER,\n",
    "                category TEXT);\"\"\")"
   ]
  },
  {
   "cell_type": "code",
   "execution_count": 39,
   "metadata": {},
   "outputs": [],
   "source": [
    "db_connection.commit()"
   ]
  },
  {
   "cell_type": "markdown",
   "metadata": {},
   "source": [
    "### Pulling COVID-19 Realtime Data ( Daily World Report, Daily US Report and Timeseries Report)"
   ]
  },
  {
   "cell_type": "code",
   "execution_count": 8,
   "metadata": {
    "scrolled": true
   },
   "outputs": [
    {
     "name": "stdout",
     "output_type": "stream",
     "text": [
      "Pulling data from server - confirmed\n",
      "Started inserting data to DB - confirmed\n",
      "Iserting Data for Date -  4/17/20\n",
      "Iserting Data for Date -  4/18/20\n",
      "Iserting Data for Date -  4/19/20\n",
      "Iserting Data for Date -  4/20/20\n",
      "Iserting Data for Date -  4/21/20\n",
      "Iserting Data for Date -  4/22/20\n",
      "Iserting Data for Date -  4/23/20\n",
      "Ended inserting data to DB - confirmed\n",
      "Pulling data from server - deaths\n",
      "Started inserting data to DB - deaths\n",
      "Iserting Data for Date -  4/17/20\n",
      "Iserting Data for Date -  4/18/20\n",
      "Iserting Data for Date -  4/19/20\n",
      "Iserting Data for Date -  4/20/20\n",
      "Iserting Data for Date -  4/21/20\n",
      "Iserting Data for Date -  4/22/20\n",
      "Iserting Data for Date -  4/23/20\n",
      "Ended inserting data to DB - deaths\n",
      "2020-04-24 16:28:16  : Fetched data from GIT for Covid Daily Report and Going to sleep for 1-day now ...\n"
     ]
    },
    {
     "ename": "KeyboardInterrupt",
     "evalue": "",
     "output_type": "error",
     "traceback": [
      "\u001b[0;31m---------------------------------------------------------------------------\u001b[0m",
      "\u001b[0;31mKeyboardInterrupt\u001b[0m                         Traceback (most recent call last)",
      "\u001b[0;32m<ipython-input-8-5aa38c1b7165>\u001b[0m in \u001b[0;36m<module>\u001b[0;34m\u001b[0m\n\u001b[1;32m    113\u001b[0m \u001b[0;34m\u001b[0m\u001b[0m\n\u001b[1;32m    114\u001b[0m     \u001b[0mprint\u001b[0m\u001b[0;34m(\u001b[0m\u001b[0mtimedate\u001b[0m\u001b[0;34m,\u001b[0m \u001b[0;34m' : Fetched data from GIT for Covid Daily Report and Going to sleep for 1-day now ...'\u001b[0m\u001b[0;34m)\u001b[0m\u001b[0;34m\u001b[0m\u001b[0;34m\u001b[0m\u001b[0m\n\u001b[0;32m--> 115\u001b[0;31m     \u001b[0mtime\u001b[0m\u001b[0;34m.\u001b[0m\u001b[0msleep\u001b[0m\u001b[0;34m(\u001b[0m\u001b[0;36m24\u001b[0m\u001b[0;34m*\u001b[0m\u001b[0;36m60\u001b[0m\u001b[0;34m*\u001b[0m\u001b[0;36m60\u001b[0m\u001b[0;34m)\u001b[0m\u001b[0;34m\u001b[0m\u001b[0;34m\u001b[0m\u001b[0m\n\u001b[0m\u001b[1;32m    116\u001b[0m     \u001b[0;32mcontinue\u001b[0m\u001b[0;34m\u001b[0m\u001b[0;34m\u001b[0m\u001b[0m\n",
      "\u001b[0;31mKeyboardInterrupt\u001b[0m: "
     ]
    }
   ],
   "source": [
    "db_connection.commit()\n",
    "isTimeSeriesFirstExecution = True\n",
    "while True:\n",
    "   \n",
    "    #**************** Start of Fetching Timeseries Report *********************#\n",
    "\n",
    "    \n",
    "    if isTimeSeriesFirstExecution == True: # Executing it for first Time\n",
    "        # delete existing data in the table\n",
    "        cursor.execute(\"DELETE FROM health_analytics_covid_data\")\n",
    "        # Saving the changes\n",
    "        db_connection.commit()\n",
    "\n",
    "    category = ['confirmed','deaths']\n",
    "    for cat in category:\n",
    "        print(\"Pulling data from server - \" + cat)\n",
    "        url=\"https://raw.githubusercontent.com/CSSEGISandData/COVID-19/master/csse_covid_19_data/csse_covid_19_time_series/time_series_covid19_\"+cat+\"_US.csv\"\n",
    "        s=requests.get(url).content\n",
    "        df_conf=pd.read_csv(io.StringIO(s.decode('utf-8')))\n",
    "        df_conf = df_conf.rename(columns={\n",
    "            \"Province_State\": \"province_state\",\n",
    "            \"Country_Region\": \"country_region\",\n",
    "            \"Lat\": \"latitude\",\n",
    "            \"Long_\": \"longitude\"\n",
    "        })\n",
    "        \n",
    "        # UID,iso2,iso3,code3,FIPS,Admin2,Province_State,Country_Region,Lat,Long_,Combined_Key,\n",
    "        # df_conf.drop(columns=['UID', 'iso2', 'iso3', 'code3', 'FIPS', 'Admin2', 'Combined_Key'])\n",
    "        df_conf = df_conf.fillna('')\n",
    "        \n",
    "        df_conf.to_csv('health_analytics_covid_data-'+cat+'.csv',sep=',', encoding='utf-8', index=False)\n",
    "        \n",
    "        #print(df_conf)\n",
    "        #print(\"Full -\", df_conf.columns)\n",
    "        # Getting all the dates as list\n",
    "        if cat == 'deaths':\n",
    "            dates_col_list = df_conf.columns[12:len(df_conf.columns)]\n",
    "        else:\n",
    "            dates_col_list = df_conf.columns[11:len(df_conf.columns)]\n",
    "        #print(dates_col_list)\n",
    "        \n",
    "        if isTimeSeriesFirstExecution == False:\n",
    "            dates_col = [dates_col_list[::-1][0]]\n",
    "        else:\n",
    "            # Restricting to fetch last 30 days data using the below code\n",
    "            dates_col = dates_col_list[-7:]\n",
    "        \n",
    "        df_datewise= df_conf[['province_state', 'country_region', 'latitude', 'longitude']].copy()\n",
    "\n",
    "        \n",
    "        if isTimeSeriesFirstExecution == False:\n",
    "            count_query = \"\"\"select * from health_analytics_covid_data where report_date = '\"\"\"+dates_col[0]+\"\"\"'\n",
    "                          and category = '\"\"\"+cat+\"\"\"'\"\"\"\n",
    "            cursor.execute(count_query)\n",
    "            \n",
    "            #print(\"The number of records: \", cursor.rowcount)\n",
    "            if cursor.rowcount > 1:\n",
    "                dates_col = []\n",
    "        \n",
    "        if len(dates_col) > 0:\n",
    "            print(\"Started inserting data to DB - \" + cat)\n",
    "\n",
    "            for d in dates_col:\n",
    "                print(\"Iserting Data for Date - \", d)\n",
    "                lst_count = list(df_conf[[d][0]])\n",
    "                lst_same_date = [list(df_conf[[d]])[0] for i in range(len(lst_count))]\n",
    "                lst_data_type = [cat for i in range(len(lst_count))]\n",
    "                df_datewise['report_date'] = lst_same_date\n",
    "                df_datewise['total'] = lst_count\n",
    "                df_datewise['category'] = lst_data_type\n",
    "\n",
    "                #print(df_datewise)\n",
    "\n",
    "                # Inserting data to database datewise \n",
    "                # Inserting each row\n",
    "                for row in df_datewise.iterrows():\n",
    "                    province_state = row[1]['province_state']\n",
    "                    country_region = row[1]['country_region']\n",
    "                    latitude = row[1]['latitude']\n",
    "                    longitude = row[1]['longitude']\n",
    "\n",
    "                    # Incase the 's is present in the string it adds an escape character i.e. ''\n",
    "                    if(province_state != ''):\n",
    "                        province_state = province_state.replace(\"'\",\"''\")\n",
    "                    if(country_region != ''):\n",
    "                        country_region = country_region.replace(\"'\",\"''\")\n",
    "                    if(latitude == ''):\n",
    "                        latitude = 0.0\n",
    "                    if(longitude == ''):\n",
    "                        longitude = 0.0\n",
    "\n",
    "                    query = \"\"\"\n",
    "                    INSERT into health_analytics_covid_data(province_state, \n",
    "                        country_region, latitude, longitude,\n",
    "                        report_date, total, category) \n",
    "                    values('%s','%s',%s,%s,'%s',%s,'%s');\n",
    "                    \"\"\" % (province_state, country_region,latitude, longitude,\n",
    "                          row[1]['report_date'], row[1]['total'], row[1]['category'])\n",
    "                    #print(query)\n",
    "                    cursor.execute(query)\n",
    "            print(\"Ended inserting data to DB - \" + cat)\n",
    "        else:\n",
    "            print(\"Record already present for date \"+dates_col_list[::-1][0]+\" - \" + cat)\n",
    "\n",
    "        db_connection.commit()\n",
    "    isTimeSeriesFirstExecution = False\n",
    "    \n",
    "    #**************** End of Fetching Timeseries Report *********************#\n",
    "    \n",
    "    # Sleep for 1 day; COVID19 data gets updated on daily basis\n",
    "    now = datetime.now()\n",
    "    timedate = ( (str(now.now())).split('.')[0]).split(' ')[0] + ' ' + ((str(now.now())).split('.')[0]).split(' ')[1]\n",
    " \n",
    "    print(timedate, ' : Fetched data from GIT for Covid Daily Report and Going to sleep for 1-day now ...')\n",
    "    time.sleep(24*60*60)    \n",
    "    continue\n"
   ]
  }
 ],
 "metadata": {
  "kernelspec": {
   "display_name": "Python 3",
   "language": "python",
   "name": "python3"
  },
  "language_info": {
   "codemirror_mode": {
    "name": "ipython",
    "version": 3
   },
   "file_extension": ".py",
   "mimetype": "text/x-python",
   "name": "python",
   "nbconvert_exporter": "python",
   "pygments_lexer": "ipython3",
   "version": "3.7.4"
  }
 },
 "nbformat": 4,
 "nbformat_minor": 2
}
