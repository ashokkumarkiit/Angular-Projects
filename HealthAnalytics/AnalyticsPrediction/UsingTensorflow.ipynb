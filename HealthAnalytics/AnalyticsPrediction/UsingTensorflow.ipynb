{
 "cells": [
  {
   "cell_type": "markdown",
   "metadata": {},
   "source": [
    "# Using Tensorflow for forcasting\n",
    "\n",
    "## Ref URL : https://github.com/tensorflow/tensorflow/tree/master/tensorflow/contrib/timeseries"
   ]
  },
  {
   "cell_type": "markdown",
   "metadata": {},
   "source": [
    "### For tensorflow I have used the above link for implementing the concept.  Here for each question, I am preparing the dataframe using pandas library. The column names are saved as \"timestamp\" and \"value\". Next the dataframe is saved as .csv file and further used. \n",
    "\n",
    "### The Dataframe is now read and date parser is used to convert date to timestamp. Next the value passed in the tensor for training and prediction."
   ]
  },
  {
   "cell_type": "code",
   "execution_count": 1,
   "metadata": {},
   "outputs": [
    {
     "name": "stderr",
     "output_type": "stream",
     "text": [
      "/anaconda3/lib/python3.5/importlib/_bootstrap.py:222: RuntimeWarning: compiletime version 3.6 of module 'tensorflow.python.framework.fast_tensor_util' does not match runtime version 3.5\n",
      "  return f(*args, **kwds)\n"
     ]
    }
   ],
   "source": [
    "from __future__ import absolute_import\n",
    "from __future__ import division\n",
    "from __future__ import print_function\n",
    "\n",
    "import argparse\n",
    "import os\n",
    "import sys\n",
    "\n",
    "import numpy as np\n",
    "import tensorflow as tf\n",
    "import pandas as pd\n",
    "import numpy as np \n",
    "from pandas import DataFrame, Series\n",
    "from matplotlib import pyplot\n",
    "from datetime import datetime as dt"
   ]
  },
  {
   "cell_type": "markdown",
   "metadata": {},
   "source": [
    "## Reading saved JSON file for fetched issues"
   ]
  },
  {
   "cell_type": "code",
   "execution_count": 2,
   "metadata": {},
   "outputs": [],
   "source": [
    "# Read the JSON file into a list of dictionaries\n",
    "\n",
    "import json\n",
    "list_of_issues_dict_data = [json.loads(line) for line in open('SPM587SP19issues.json')]"
   ]
  },
  {
   "cell_type": "code",
   "execution_count": 3,
   "metadata": {},
   "outputs": [],
   "source": [
    "# Create the DataFrame object for the list_of_issues_dict_data object\n",
    "\n",
    "issues_df = DataFrame(list_of_issues_dict_data)"
   ]
  },
  {
   "cell_type": "markdown",
   "metadata": {},
   "source": [
    "## Preparing DataFrame object based on labels"
   ]
  },
  {
   "cell_type": "code",
   "execution_count": 4,
   "metadata": {},
   "outputs": [],
   "source": [
    "# Prepare and Clean the dataframe object\n",
    "\n",
    "wrangled_issues_df = issues_df[['Author','State','closed_at','created_at','issue_number','labels']]\n",
    "wrangled_issues_df.loc[0:len(wrangled_issues_df), 'OriginationPhase']= np.NaN\n",
    "wrangled_issues_df.loc[0:len(wrangled_issues_df),'DetectionPhase']= np.NaN\n",
    "wrangled_issues_df.loc[0:len(wrangled_issues_df),'Category']= np.NaN\n",
    "wrangled_issues_df.loc[0:len(wrangled_issues_df),'Priority']= np.NaN\n",
    "wrangled_issues_df.loc[0:len(wrangled_issues_df),'Status']= np.NaN\n",
    "\n",
    "for i in range(0, len(wrangled_issues_df)):\n",
    "    if wrangled_issues_df.iloc[i]['labels']:\n",
    "        for label in wrangled_issues_df.iloc[i]['labels']:\n",
    "            label_name= (label.split(':'))[0]\n",
    "            label_value= (label.split(':'))[1]\n",
    "            wrangled_issues_df.loc[i, label_name]=label_value\n",
    " \n"
   ]
  },
  {
   "cell_type": "code",
   "execution_count": 5,
   "metadata": {
    "scrolled": true
   },
   "outputs": [
    {
     "data": {
      "text/html": [
       "<div>\n",
       "<style scoped>\n",
       "    .dataframe tbody tr th:only-of-type {\n",
       "        vertical-align: middle;\n",
       "    }\n",
       "\n",
       "    .dataframe tbody tr th {\n",
       "        vertical-align: top;\n",
       "    }\n",
       "\n",
       "    .dataframe thead th {\n",
       "        text-align: right;\n",
       "    }\n",
       "</style>\n",
       "<table border=\"1\" class=\"dataframe\">\n",
       "  <thead>\n",
       "    <tr style=\"text-align: right;\">\n",
       "      <th></th>\n",
       "      <th>Author</th>\n",
       "      <th>State</th>\n",
       "      <th>closed_at</th>\n",
       "      <th>created_at</th>\n",
       "      <th>issue_number</th>\n",
       "      <th>labels</th>\n",
       "      <th>OriginationPhase</th>\n",
       "      <th>DetectionPhase</th>\n",
       "      <th>Category</th>\n",
       "      <th>Priority</th>\n",
       "      <th>Status</th>\n",
       "      <th>Address</th>\n",
       "      <th>OritinationPhase</th>\n",
       "      <th>Latitude</th>\n",
       "      <th>Longitude</th>\n",
       "      <th>Detection</th>\n",
       "      <th>Origination</th>\n",
       "    </tr>\n",
       "  </thead>\n",
       "  <tbody>\n",
       "    <tr>\n",
       "      <th>0</th>\n",
       "      <td>TSP19SCM781</td>\n",
       "      <td>open</td>\n",
       "      <td>None</td>\n",
       "      <td>2019-04-21</td>\n",
       "      <td>494</td>\n",
       "      <td>[Category:Enhancement, DetectionPhase:Testing,...</td>\n",
       "      <td>Field</td>\n",
       "      <td>Testing</td>\n",
       "      <td>Enhancement</td>\n",
       "      <td>Critical</td>\n",
       "      <td>Completed</td>\n",
       "      <td>NaN</td>\n",
       "      <td>NaN</td>\n",
       "      <td>NaN</td>\n",
       "      <td>NaN</td>\n",
       "      <td>NaN</td>\n",
       "      <td>NaN</td>\n",
       "    </tr>\n",
       "    <tr>\n",
       "      <th>1</th>\n",
       "      <td>TSP19SCM781</td>\n",
       "      <td>open</td>\n",
       "      <td>None</td>\n",
       "      <td>2019-04-21</td>\n",
       "      <td>493</td>\n",
       "      <td>[Category:Enhancement, DetectionPhase:Design, ...</td>\n",
       "      <td>Design</td>\n",
       "      <td>Design</td>\n",
       "      <td>Enhancement</td>\n",
       "      <td>Major</td>\n",
       "      <td>Completed</td>\n",
       "      <td>NaN</td>\n",
       "      <td>NaN</td>\n",
       "      <td>NaN</td>\n",
       "      <td>NaN</td>\n",
       "      <td>NaN</td>\n",
       "      <td>NaN</td>\n",
       "    </tr>\n",
       "    <tr>\n",
       "      <th>2</th>\n",
       "      <td>TSP19SCM781</td>\n",
       "      <td>open</td>\n",
       "      <td>None</td>\n",
       "      <td>2019-04-21</td>\n",
       "      <td>492</td>\n",
       "      <td>[Category:Inquiry, DetectionPhase:Design, Orig...</td>\n",
       "      <td>Requirements</td>\n",
       "      <td>Design</td>\n",
       "      <td>Inquiry</td>\n",
       "      <td>Major</td>\n",
       "      <td>inProgress</td>\n",
       "      <td>NaN</td>\n",
       "      <td>NaN</td>\n",
       "      <td>NaN</td>\n",
       "      <td>NaN</td>\n",
       "      <td>NaN</td>\n",
       "      <td>NaN</td>\n",
       "    </tr>\n",
       "    <tr>\n",
       "      <th>3</th>\n",
       "      <td>DSP19SCM782</td>\n",
       "      <td>open</td>\n",
       "      <td>None</td>\n",
       "      <td>2019-04-21</td>\n",
       "      <td>491</td>\n",
       "      <td>[Category:Bug, DetectionPhase:Field, Originati...</td>\n",
       "      <td>Field</td>\n",
       "      <td>Field</td>\n",
       "      <td>Bug</td>\n",
       "      <td>Major</td>\n",
       "      <td>pendingReview</td>\n",
       "      <td>NaN</td>\n",
       "      <td>NaN</td>\n",
       "      <td>NaN</td>\n",
       "      <td>NaN</td>\n",
       "      <td>NaN</td>\n",
       "      <td>NaN</td>\n",
       "    </tr>\n",
       "    <tr>\n",
       "      <th>4</th>\n",
       "      <td>DSP19SCM782</td>\n",
       "      <td>open</td>\n",
       "      <td>None</td>\n",
       "      <td>2019-04-21</td>\n",
       "      <td>490</td>\n",
       "      <td>[Category:Bug, DetectionPhase:Design, Originat...</td>\n",
       "      <td>Testing</td>\n",
       "      <td>Design</td>\n",
       "      <td>Bug</td>\n",
       "      <td>High</td>\n",
       "      <td>pendingReview</td>\n",
       "      <td>NaN</td>\n",
       "      <td>NaN</td>\n",
       "      <td>NaN</td>\n",
       "      <td>NaN</td>\n",
       "      <td>NaN</td>\n",
       "      <td>NaN</td>\n",
       "    </tr>\n",
       "  </tbody>\n",
       "</table>\n",
       "</div>"
      ],
      "text/plain": [
       "        Author State closed_at  created_at  issue_number  \\\n",
       "0  TSP19SCM781  open      None  2019-04-21           494   \n",
       "1  TSP19SCM781  open      None  2019-04-21           493   \n",
       "2  TSP19SCM781  open      None  2019-04-21           492   \n",
       "3  DSP19SCM782  open      None  2019-04-21           491   \n",
       "4  DSP19SCM782  open      None  2019-04-21           490   \n",
       "\n",
       "                                              labels OriginationPhase  \\\n",
       "0  [Category:Enhancement, DetectionPhase:Testing,...            Field   \n",
       "1  [Category:Enhancement, DetectionPhase:Design, ...           Design   \n",
       "2  [Category:Inquiry, DetectionPhase:Design, Orig...     Requirements   \n",
       "3  [Category:Bug, DetectionPhase:Field, Originati...            Field   \n",
       "4  [Category:Bug, DetectionPhase:Design, Originat...          Testing   \n",
       "\n",
       "  DetectionPhase     Category  Priority         Status Address  \\\n",
       "0        Testing  Enhancement  Critical      Completed     NaN   \n",
       "1         Design  Enhancement     Major      Completed     NaN   \n",
       "2         Design      Inquiry     Major     inProgress     NaN   \n",
       "3          Field          Bug     Major  pendingReview     NaN   \n",
       "4         Design          Bug      High  pendingReview     NaN   \n",
       "\n",
       "  OritinationPhase Latitude Longitude Detection Origination  \n",
       "0              NaN      NaN       NaN       NaN         NaN  \n",
       "1              NaN      NaN       NaN       NaN         NaN  \n",
       "2              NaN      NaN       NaN       NaN         NaN  \n",
       "3              NaN      NaN       NaN       NaN         NaN  \n",
       "4              NaN      NaN       NaN       NaN         NaN  "
      ]
     },
     "execution_count": 5,
     "metadata": {},
     "output_type": "execute_result"
    }
   ],
   "source": [
    "# Sanity Check of records\n",
    "wrangled_issues_df[:5]"
   ]
  },
  {
   "cell_type": "markdown",
   "metadata": {},
   "source": [
    "## This block is used for Calling Auto Regressive Model for training when there is less no of records i.e around 5."
   ]
  },
  {
   "cell_type": "code",
   "execution_count": 6,
   "metadata": {},
   "outputs": [],
   "source": [
    "# This block is used for Calling Auto Regressive Model for training when there is less no of records.\n",
    "def ar_train_and_predict_less_records(csv_file_name):\n",
    "  # An autoregressive model, with periodicity handled as a time-based\n",
    "  # regression. Note that this requires windows of size 16 (input_window_size +\n",
    "  # output_window_size) for training.\n",
    "    ar = tf.contrib.timeseries.ARRegressor(\n",
    "        periodicities=200, input_window_size=2, output_window_size=2,num_features=1,\n",
    "      # Use the (default) normal likelihood loss to adaptively fit the\n",
    "      # variance. SQUARED_LOSS overestimates variance when there are trends in\n",
    "      # the series.\n",
    "        loss=tf.contrib.timeseries.ARModel.NORMAL_LIKELIHOOD_LOSS)\n",
    "    return train_and_predict_less_records(ar, csv_file_name, training_steps=1000)"
   ]
  },
  {
   "cell_type": "markdown",
   "metadata": {},
   "source": [
    "## This block is used for Calling Auto Regressive Model for training when there is more no of records"
   ]
  },
  {
   "cell_type": "code",
   "execution_count": 7,
   "metadata": {},
   "outputs": [],
   "source": [
    "# This block is used for Calling Auto Regressive Model for training when there is more no of records.\n",
    "def ar_train_and_predict(csv_file_name):\n",
    "  # An autoregressive model, with periodicity handled as a time-based\n",
    "  # regression. Note that this requires windows of size 16 (input_window_size +\n",
    "  # output_window_size) for training.\n",
    "    ar = tf.contrib.timeseries.ARRegressor(\n",
    "        periodicities=200, input_window_size=10, output_window_size=6,num_features=1,\n",
    "      # Use the (default) normal likelihood loss to adaptively fit the\n",
    "      # variance. SQUARED_LOSS overestimates variance when there are trends in\n",
    "      # the series.\n",
    "        loss=tf.contrib.timeseries.ARModel.NORMAL_LIKELIHOOD_LOSS)\n",
    "    return train_and_predict(ar, csv_file_name, training_steps=1000)"
   ]
  },
  {
   "cell_type": "markdown",
   "metadata": {},
   "source": [
    "## Function used for plotting the graph"
   ]
  },
  {
   "cell_type": "code",
   "execution_count": 8,
   "metadata": {},
   "outputs": [],
   "source": [
    "# This method is used for plotting the graph\n",
    "def make_plot(name, training_times, observed, all_times, mean,\n",
    "              upper_limit, lower_limit):\n",
    "    \"\"\"Plot a time series in a new figure.\"\"\"\n",
    "    pyplot.figure()\n",
    "    pyplot.figure(figsize=(15, 5))\n",
    "    pyplot.plot(training_times, observed, \"b\", label=\"training series\")\n",
    "    pyplot.plot(all_times, mean, \"r\", label=\"forecast\")\n",
    "    pyplot.plot(all_times, upper_limit, \"g\", label=\"forecast upper bound\")\n",
    "    pyplot.plot(all_times, lower_limit, \"g\", label=\"forecast lower bound\")\n",
    "    pyplot.fill_between(all_times, lower_limit, upper_limit, color=\"grey\",\n",
    "                      alpha=\"0.2\")\n",
    "    pyplot.axvline(training_times[-1], color=\"k\", linestyle=\"--\")\n",
    "    pyplot.xlabel(\"time\")\n",
    "    pyplot.ylabel(\"observations\")\n",
    "    pyplot.legend(loc=0)\n",
    "    pyplot.title(name)"
   ]
  },
  {
   "cell_type": "markdown",
   "metadata": {},
   "source": [
    "## This method is used for convering date into timestamp"
   ]
  },
  {
   "cell_type": "code",
   "execution_count": 9,
   "metadata": {},
   "outputs": [],
   "source": [
    "def date_parser(date_str):\n",
    "    return dt.strptime(date_str, \"%Y-%m-%d\").strftime(\"%s\")"
   ]
  },
  {
   "cell_type": "markdown",
   "metadata": {},
   "source": [
    "## This block is used for training and predicting for records in batch size 16 and more i.e. for more records."
   ]
  },
  {
   "cell_type": "code",
   "execution_count": 10,
   "metadata": {},
   "outputs": [],
   "source": [
    "def train_and_predict(estimator, csv_file_name, training_steps):\n",
    "    \"\"\"A simple example of training and predicting.\"\"\"\n",
    "    ### Read data in the default \"time,value\" CSV format with no header\n",
    "    #reader = tf.contrib.timeseries.CSVReader(csv_file_name)\n",
    "    \n",
    "    data = pd.read_csv(csv_file_name\n",
    "                       , header=0\n",
    "                       , parse_dates=['timestamp']\n",
    "                       , date_parser=date_parser)\n",
    "\n",
    "    data['timestamp'] = data['timestamp'].apply(lambda x: int(x))\n",
    "    reader = tf.contrib.timeseries.NumpyReader(data={tf.contrib.timeseries.TrainEvalFeatures.TIMES: data['timestamp'].values, tf.contrib.timeseries.TrainEvalFeatures.VALUES : data['value'].values})\n",
    "    print('Data Converted to Reader')\n",
    "    # Set up windowing and batching for training\n",
    "    train_input_fn = tf.contrib.timeseries.RandomWindowInputFn(\n",
    "      reader, batch_size=16, window_size=16)\n",
    "    # Fit model parameters to data\n",
    "    estimator.train(input_fn=train_input_fn, steps=training_steps)\n",
    "    # Evaluate on the full dataset sequentially, collecting in-sample predictions\n",
    "    # for a qualitative evaluation. Note that this loads the whole dataset into\n",
    "    # memory. For quantitative evaluation, use RandomWindowChunker.\n",
    "    evaluation_input_fn = tf.contrib.timeseries.WholeDatasetInputFn(reader)\n",
    "    evaluation = estimator.evaluate(input_fn=evaluation_input_fn, steps=1)\n",
    "    # Predict starting after the evaluation\n",
    "    (predictions,) = tuple(estimator.predict(\n",
    "      input_fn=tf.contrib.timeseries.predict_continuation_input_fn(\n",
    "          evaluation, steps=200)))\n",
    "    times = evaluation[\"times\"][0]\n",
    "    observed = evaluation[\"observed\"][0, :, 0]\n",
    "    mean = np.squeeze(np.concatenate(\n",
    "      [evaluation[\"mean\"][0], predictions[\"mean\"]], axis=0))\n",
    "    variance = np.squeeze(np.concatenate(\n",
    "      [evaluation[\"covariance\"][0], predictions[\"covariance\"]], axis=0))\n",
    "    all_times = np.concatenate([times, predictions[\"times\"]], axis=0)\n",
    "    upper_limit = mean + np.sqrt(variance)\n",
    "    lower_limit = mean - np.sqrt(variance)\n",
    "    return times, observed, all_times, mean, upper_limit, lower_limit\n"
   ]
  },
  {
   "cell_type": "markdown",
   "metadata": {},
   "source": [
    "## This block is used for training and predicting for records in batch size 4 i.e. for less no of records."
   ]
  },
  {
   "cell_type": "code",
   "execution_count": 11,
   "metadata": {},
   "outputs": [],
   "source": [
    "def train_and_predict_less_records(estimator, csv_file_name, training_steps):\n",
    "    \"\"\"A simple example of training and predicting.\"\"\"\n",
    "    ### Read data in the default \"time,value\" CSV format with no header\n",
    "    #reader = tf.contrib.timeseries.CSVReader(csv_file_name)\n",
    "    \n",
    "    data = pd.read_csv(csv_file_name\n",
    "                       , header=0\n",
    "                       , parse_dates=['timestamp']\n",
    "                       , date_parser=date_parser)\n",
    "\n",
    "    data['timestamp'] = data['timestamp'].apply(lambda x: int(x))\n",
    "    reader = tf.contrib.timeseries.NumpyReader(data={tf.contrib.timeseries.TrainEvalFeatures.TIMES: data['timestamp'].values, tf.contrib.timeseries.TrainEvalFeatures.VALUES : data['value'].values})\n",
    "    print('Data Converted to Reader')\n",
    "    # Set up windowing and batching for training\n",
    "    train_input_fn = tf.contrib.timeseries.RandomWindowInputFn(\n",
    "      reader, batch_size=4, window_size=4)\n",
    "    # Fit model parameters to data\n",
    "    estimator.train(input_fn=train_input_fn, steps=training_steps)\n",
    "    # Evaluate on the full dataset sequentially, collecting in-sample predictions\n",
    "    # for a qualitative evaluation. Note that this loads the whole dataset into\n",
    "    # memory. For quantitative evaluation, use RandomWindowChunker.\n",
    "    evaluation_input_fn = tf.contrib.timeseries.WholeDatasetInputFn(reader)\n",
    "    evaluation = estimator.evaluate(input_fn=evaluation_input_fn, steps=1)\n",
    "    # Predict starting after the evaluation\n",
    "    (predictions,) = tuple(estimator.predict(\n",
    "      input_fn=tf.contrib.timeseries.predict_continuation_input_fn(\n",
    "          evaluation, steps=200)))\n",
    "    times = evaluation[\"times\"][0]\n",
    "    observed = evaluation[\"observed\"][0, :, 0]\n",
    "    mean = np.squeeze(np.concatenate(\n",
    "      [evaluation[\"mean\"][0], predictions[\"mean\"]], axis=0))\n",
    "    variance = np.squeeze(np.concatenate(\n",
    "      [evaluation[\"covariance\"][0], predictions[\"covariance\"]], axis=0))\n",
    "    all_times = np.concatenate([times, predictions[\"times\"]], axis=0)\n",
    "    upper_limit = mean + np.sqrt(variance)\n",
    "    lower_limit = mean - np.sqrt(variance)\n",
    "    return times, observed, all_times, mean, upper_limit, lower_limit\n"
   ]
  },
  {
   "cell_type": "markdown",
   "metadata": {},
   "source": [
    "## 6.1 The day of the week maximum number of issues created"
   ]
  },
  {
   "cell_type": "code",
   "execution_count": 12,
   "metadata": {
    "scrolled": false
   },
   "outputs": [
    {
     "name": "stderr",
     "output_type": "stream",
     "text": [
      "/anaconda3/lib/python3.5/site-packages/ipykernel_launcher.py:13: SettingWithCopyWarning: \n",
      "A value is trying to be set on a copy of a slice from a DataFrame.\n",
      "Try using .loc[row_indexer,col_indexer] = value instead\n",
      "\n",
      "See the caveats in the documentation: http://pandas.pydata.org/pandas-docs/stable/indexing.html#indexing-view-versus-copy\n",
      "  del sys.path[0]\n"
     ]
    },
    {
     "name": "stdout",
     "output_type": "stream",
     "text": [
      "INFO:tensorflow:Using default config.\n",
      "WARNING:tensorflow:Using temporary folder as model directory: /var/folders/w5/4tlh63dx7yb713_mjd3r3bph0000gn/T/tmp0vqc3612\n",
      "INFO:tensorflow:Using config: {'_save_summary_steps': 100, '_is_chief': True, '_keep_checkpoint_every_n_hours': 10000, '_save_checkpoints_steps': None, '_model_dir': '/var/folders/w5/4tlh63dx7yb713_mjd3r3bph0000gn/T/tmp0vqc3612', '_task_type': 'worker', '_task_id': 0, '_num_worker_replicas': 1, '_save_checkpoints_secs': 600, '_service': None, '_num_ps_replicas': 0, '_keep_checkpoint_max': 5, '_master': '', '_tf_random_seed': None, '_session_config': None, '_device_fn': None, '_global_id_in_cluster': 0, '_evaluation_master': '', '_train_distribute': None, '_log_step_count_steps': 100, '_cluster_spec': <tensorflow.python.training.server_lib.ClusterSpec object at 0x1c2947ffd0>}\n",
      "Data Converted to Reader\n",
      "INFO:tensorflow:Calling model_fn.\n",
      "INFO:tensorflow:Done calling model_fn.\n",
      "INFO:tensorflow:Create CheckpointSaverHook.\n",
      "INFO:tensorflow:Graph was finalized.\n",
      "INFO:tensorflow:Running local_init_op.\n",
      "INFO:tensorflow:Done running local_init_op.\n",
      "INFO:tensorflow:Saving checkpoints for 0 into /var/folders/w5/4tlh63dx7yb713_mjd3r3bph0000gn/T/tmp0vqc3612/model.ckpt.\n",
      "INFO:tensorflow:loss = 1.4959533, step = 1\n",
      "INFO:tensorflow:global_step/sec: 363.791\n",
      "INFO:tensorflow:loss = -1.6909478, step = 101 (0.277 sec)\n",
      "INFO:tensorflow:global_step/sec: 681.199\n",
      "INFO:tensorflow:loss = -0.2793833, step = 201 (0.147 sec)\n",
      "INFO:tensorflow:global_step/sec: 790.771\n",
      "INFO:tensorflow:loss = -1.0353422, step = 301 (0.126 sec)\n",
      "INFO:tensorflow:global_step/sec: 779.8\n",
      "INFO:tensorflow:loss = -2.2329009, step = 401 (0.128 sec)\n",
      "INFO:tensorflow:global_step/sec: 887.193\n",
      "INFO:tensorflow:loss = -1.8742397, step = 501 (0.113 sec)\n",
      "INFO:tensorflow:global_step/sec: 884.712\n",
      "INFO:tensorflow:loss = -1.9203857, step = 601 (0.113 sec)\n",
      "INFO:tensorflow:global_step/sec: 975.696\n",
      "INFO:tensorflow:loss = -1.4826853, step = 701 (0.103 sec)\n",
      "INFO:tensorflow:global_step/sec: 869.156\n",
      "INFO:tensorflow:loss = -2.197002, step = 801 (0.115 sec)\n",
      "INFO:tensorflow:global_step/sec: 882.426\n",
      "INFO:tensorflow:loss = -2.1199543, step = 901 (0.113 sec)\n",
      "INFO:tensorflow:Saving checkpoints for 1000 into /var/folders/w5/4tlh63dx7yb713_mjd3r3bph0000gn/T/tmp0vqc3612/model.ckpt.\n",
      "INFO:tensorflow:Loss for final step: -1.6404927.\n",
      "INFO:tensorflow:Calling model_fn.\n",
      "INFO:tensorflow:Done calling model_fn.\n",
      "INFO:tensorflow:Starting evaluation at 2019-04-22-03:06:57\n",
      "INFO:tensorflow:Graph was finalized.\n",
      "INFO:tensorflow:Restoring parameters from /var/folders/w5/4tlh63dx7yb713_mjd3r3bph0000gn/T/tmp0vqc3612/model.ckpt-1000\n",
      "INFO:tensorflow:Running local_init_op.\n",
      "INFO:tensorflow:Done running local_init_op.\n",
      "INFO:tensorflow:Evaluation [1/1]\n",
      "INFO:tensorflow:Finished evaluation at 2019-04-22-03:06:57\n",
      "INFO:tensorflow:Saving dict for global step 1000: covariance = [[[2.8124833]\n",
      "  [4.846003 ]]], global_step = 1000, loss = -1.077636, mean = [[[34.994522]\n",
      "  [11.945051]]], observed = [[[35.]\n",
      "  [12.]]], start_tuple = (array([[1554872400, 1555563600]]), array([[[ 0.3446919],\n",
      "        [-1.2806298]]], dtype=float32), array([], shape=(1, 2, 0), dtype=float32)), times = [[1554872400 1555563600]]\n",
      "WARNING:tensorflow:Skipping summary for mean, must be a float, np.float32, np.int64, np.int32 or int or a serialized string of Summary.\n",
      "WARNING:tensorflow:Skipping summary for observed, must be a float, np.float32, np.int64, np.int32 or int or a serialized string of Summary.\n",
      "WARNING:tensorflow:Skipping summary for times, must be a float, np.float32, np.int64, np.int32 or int or a serialized string of Summary.\n",
      "WARNING:tensorflow:Skipping summary for covariance, must be a float, np.float32, np.int64, np.int32 or int or a serialized string of Summary.\n",
      "WARNING:tensorflow:Skipping summary for start_tuple, must be a float, np.float32, np.int64, np.int32 or int or a serialized string of Summary.\n",
      "INFO:tensorflow:Saving 'checkpoint_path' summary for global step 1000: /var/folders/w5/4tlh63dx7yb713_mjd3r3bph0000gn/T/tmp0vqc3612/model.ckpt-1000\n",
      "WARNING:tensorflow:Input graph does not use tf.data.Dataset or contain a QueueRunner. That means predict yields forever. This is probably a mistake.\n",
      "INFO:tensorflow:Calling model_fn.\n",
      "INFO:tensorflow:Done calling model_fn.\n",
      "INFO:tensorflow:Graph was finalized.\n",
      "INFO:tensorflow:Restoring parameters from /var/folders/w5/4tlh63dx7yb713_mjd3r3bph0000gn/T/tmp0vqc3612/model.ckpt-1000\n",
      "INFO:tensorflow:Running local_init_op.\n",
      "INFO:tensorflow:Done running local_init_op.\n"
     ]
    },
    {
     "data": {
      "text/plain": [
       "<matplotlib.figure.Figure at 0x1c295cc8d0>"
      ]
     },
     "metadata": {},
     "output_type": "display_data"
    },
    {
     "data": {
      "image/png": "[encoded data removed]",
      "text/plain": [
       "<matplotlib.figure.Figure at 0x1c2b3f46d8>"
      ]
     },
     "metadata": {
      "needs_background": "light"
     },
     "output_type": "display_data"
    }
   ],
   "source": [
    "# The day of the week maximum number of issues created\n",
    "df = wrangled_issues_df.groupby('created_at')['created_at']\n",
    "df_new = df.describe()\n",
    "s1 = pd.Series(df_new['top'], name='date')\n",
    "\n",
    "#Creating a new dataframe for capturing copy of dates\n",
    "df_new = pd.concat([df_new, s1], axis=1)\n",
    "pdf = pd.DataFrame(['ds','ds_actual','y'])\n",
    "pdf = df_new[['top','date','count']]\n",
    "pdf.columns = ['ds','ds_actual','y']\n",
    "\n",
    "#Generating Monday for any given date and grouping by using the week\n",
    "pdf['ds'] = pd.to_datetime(pdf['ds']) - pd.to_timedelta(7, unit='d')\n",
    "df_weekly_max_count = pdf.reset_index().groupby(\n",
    "    [pd.Grouper(key='ds', freq='W-MON')]).apply(lambda x: x.loc[x.y == x.y.max(),['ds_actual','y']])\n",
    "\n",
    "# Again fetching the grouped data and storing it into a new dataframe that is used for plotting\n",
    "df_forPrediction = pd.DataFrame(['ds','y'])\n",
    "df_forPrediction = df_weekly_max_count[['ds_actual','y']]\n",
    "df_forPrediction.columns = ['timestamp','value']\n",
    "export_csv = df_forPrediction.to_csv (r'./export_dataframe.csv', index = None, header=True) \n",
    "make_plot(\"Tensorflow Prediction\", *ar_train_and_predict_less_records('./export_dataframe.csv'))\n",
    "pyplot.show()\n",
    "\n"
   ]
  },
  {
   "cell_type": "markdown",
   "metadata": {},
   "source": [
    "## 6.2 The day of the week maximum number of issues closed"
   ]
  },
  {
   "cell_type": "code",
   "execution_count": 13,
   "metadata": {
    "scrolled": false
   },
   "outputs": [
    {
     "name": "stdout",
     "output_type": "stream",
     "text": [
      "INFO:tensorflow:Using default config.\n",
      "WARNING:tensorflow:Using temporary folder as model directory: /var/folders/w5/4tlh63dx7yb713_mjd3r3bph0000gn/T/tmpftj5jpek\n",
      "INFO:tensorflow:Using config: {'_save_summary_steps': 100, '_is_chief': True, '_keep_checkpoint_every_n_hours': 10000, '_save_checkpoints_steps': None, '_model_dir': '/var/folders/w5/4tlh63dx7yb713_mjd3r3bph0000gn/T/tmpftj5jpek', '_task_type': 'worker', '_task_id': 0, '_num_worker_replicas': 1, '_save_checkpoints_secs': 600, '_service': None, '_num_ps_replicas': 0, '_keep_checkpoint_max': 5, '_master': '', '_tf_random_seed': None, '_session_config': None, '_device_fn': None, '_global_id_in_cluster': 0, '_evaluation_master': '', '_train_distribute': None, '_log_step_count_steps': 100, '_cluster_spec': <tensorflow.python.training.server_lib.ClusterSpec object at 0x1c2b0a2208>}\n",
      "Data Converted to Reader\n",
      "INFO:tensorflow:Calling model_fn.\n"
     ]
    },
    {
     "name": "stderr",
     "output_type": "stream",
     "text": [
      "/anaconda3/lib/python3.5/site-packages/ipykernel_launcher.py:15: SettingWithCopyWarning: \n",
      "A value is trying to be set on a copy of a slice from a DataFrame.\n",
      "Try using .loc[row_indexer,col_indexer] = value instead\n",
      "\n",
      "See the caveats in the documentation: http://pandas.pydata.org/pandas-docs/stable/indexing.html#indexing-view-versus-copy\n",
      "  from ipykernel import kernelapp as app\n"
     ]
    },
    {
     "name": "stdout",
     "output_type": "stream",
     "text": [
      "INFO:tensorflow:Done calling model_fn.\n",
      "INFO:tensorflow:Create CheckpointSaverHook.\n",
      "INFO:tensorflow:Graph was finalized.\n",
      "INFO:tensorflow:Running local_init_op.\n",
      "INFO:tensorflow:Done running local_init_op.\n",
      "INFO:tensorflow:Saving checkpoints for 0 into /var/folders/w5/4tlh63dx7yb713_mjd3r3bph0000gn/T/tmpftj5jpek/model.ckpt.\n",
      "INFO:tensorflow:loss = 1.7153906, step = 1\n",
      "INFO:tensorflow:global_step/sec: 253.284\n",
      "INFO:tensorflow:loss = 0.49350548, step = 101 (0.396 sec)\n",
      "INFO:tensorflow:global_step/sec: 666.715\n",
      "INFO:tensorflow:loss = 0.5465201, step = 201 (0.150 sec)\n",
      "INFO:tensorflow:global_step/sec: 627.692\n",
      "INFO:tensorflow:loss = -1.2174665, step = 301 (0.159 sec)\n",
      "INFO:tensorflow:global_step/sec: 777.926\n",
      "INFO:tensorflow:loss = -1.5434887, step = 401 (0.130 sec)\n",
      "INFO:tensorflow:global_step/sec: 920.819\n",
      "INFO:tensorflow:loss = -1.9745826, step = 501 (0.107 sec)\n",
      "INFO:tensorflow:global_step/sec: 977.965\n",
      "INFO:tensorflow:loss = -0.9868408, step = 601 (0.102 sec)\n",
      "INFO:tensorflow:global_step/sec: 960.164\n",
      "INFO:tensorflow:loss = -2.1321645, step = 701 (0.104 sec)\n",
      "INFO:tensorflow:global_step/sec: 871.064\n",
      "INFO:tensorflow:loss = -1.4086881, step = 801 (0.115 sec)\n",
      "INFO:tensorflow:global_step/sec: 939.904\n",
      "INFO:tensorflow:loss = -2.9789014, step = 901 (0.108 sec)\n",
      "INFO:tensorflow:Saving checkpoints for 1000 into /var/folders/w5/4tlh63dx7yb713_mjd3r3bph0000gn/T/tmpftj5jpek/model.ckpt.\n",
      "INFO:tensorflow:Loss for final step: -2.618668.\n",
      "INFO:tensorflow:Calling model_fn.\n",
      "INFO:tensorflow:Done calling model_fn.\n",
      "INFO:tensorflow:Starting evaluation at 2019-04-22-03:07:03\n",
      "INFO:tensorflow:Graph was finalized.\n",
      "INFO:tensorflow:Restoring parameters from /var/folders/w5/4tlh63dx7yb713_mjd3r3bph0000gn/T/tmpftj5jpek/model.ckpt-1000\n",
      "INFO:tensorflow:Running local_init_op.\n",
      "INFO:tensorflow:Done running local_init_op.\n",
      "INFO:tensorflow:Evaluation [1/1]\n",
      "INFO:tensorflow:Finished evaluation at 2019-04-22-03:07:03\n",
      "INFO:tensorflow:Saving dict for global step 1000: covariance = [[[0.19126369]\n",
      "  [1.0158452 ]]], global_step = 1000, loss = -1.7018465, mean = [[[40.969696]\n",
      "  [10.97769 ]]], observed = [[[41.]\n",
      "  [11.]]], start_tuple = (array([[1554872400, 1555563600]]), array([[[ 1.012472 ],\n",
      "        [-2.2702897]]], dtype=float32), array([], shape=(1, 2, 0), dtype=float32)), times = [[1554872400 1555563600]]\n",
      "WARNING:tensorflow:Skipping summary for mean, must be a float, np.float32, np.int64, np.int32 or int or a serialized string of Summary.\n",
      "WARNING:tensorflow:Skipping summary for observed, must be a float, np.float32, np.int64, np.int32 or int or a serialized string of Summary.\n",
      "WARNING:tensorflow:Skipping summary for times, must be a float, np.float32, np.int64, np.int32 or int or a serialized string of Summary.\n",
      "WARNING:tensorflow:Skipping summary for covariance, must be a float, np.float32, np.int64, np.int32 or int or a serialized string of Summary.\n",
      "WARNING:tensorflow:Skipping summary for start_tuple, must be a float, np.float32, np.int64, np.int32 or int or a serialized string of Summary.\n",
      "INFO:tensorflow:Saving 'checkpoint_path' summary for global step 1000: /var/folders/w5/4tlh63dx7yb713_mjd3r3bph0000gn/T/tmpftj5jpek/model.ckpt-1000\n",
      "WARNING:tensorflow:Input graph does not use tf.data.Dataset or contain a QueueRunner. That means predict yields forever. This is probably a mistake.\n",
      "INFO:tensorflow:Calling model_fn.\n",
      "INFO:tensorflow:Done calling model_fn.\n",
      "INFO:tensorflow:Graph was finalized.\n",
      "INFO:tensorflow:Restoring parameters from /var/folders/w5/4tlh63dx7yb713_mjd3r3bph0000gn/T/tmpftj5jpek/model.ckpt-1000\n",
      "INFO:tensorflow:Running local_init_op.\n",
      "INFO:tensorflow:Done running local_init_op.\n"
     ]
    },
    {
     "data": {
      "text/plain": [
       "<matplotlib.figure.Figure at 0x1c2b0c2dd8>"
      ]
     },
     "metadata": {},
     "output_type": "display_data"
    },
    {
     "data": {
      "image/png": "[encoded data removed]",
      "text/plain": [
       "<matplotlib.figure.Figure at 0x1c2a526978>"
      ]
     },
     "metadata": {
      "needs_background": "light"
     },
     "output_type": "display_data"
    }
   ],
   "source": [
    "#The day of the week maximum number of issues closed\n",
    "df_closed = wrangled_issues_df[(wrangled_issues_df['State'] == 'closed')]\n",
    "df_closed_gby = df_closed.groupby(['closed_at','State'])['closed_at']\n",
    "\n",
    "df_new = df_closed_gby.describe()\n",
    "s1 = pd.Series(df_new['top'], name='date')\n",
    "\n",
    "#Creating a new dataframe for capturing copy of dates\n",
    "df_new = pd.concat([df_new, s1], axis=1)\n",
    "pdf = pd.DataFrame(['ds','ds_actual','y'])\n",
    "pdf = df_new[['top','date','count']]\n",
    "pdf.columns = ['ds','ds_actual','y']\n",
    "\n",
    "#Generating Monday for any given date and grouping by using the week\n",
    "pdf['ds'] = pd.to_datetime(pdf['ds']) - pd.to_timedelta(7, unit='d')\n",
    "df_weekly_max_count = pdf.reset_index().groupby(\n",
    "    [pd.Grouper(key='ds', freq='W-MON')]).apply(lambda x: x.loc[x.y == x.y.max(),['ds_actual','y']])\n",
    "\n",
    "# Again fetching the grouped data and storing it into a new dataframe that is used for plotting\n",
    "df_forPrediction = pd.DataFrame(['ds','y'])\n",
    "df_forPrediction = df_weekly_max_count[['ds_actual','y']]\n",
    "df_forPrediction.columns = ['timestamp','value']\n",
    "df_forPrediction.columns = ['timestamp','value']\n",
    "export_csv = df_forPrediction.to_csv (r'./export_dataframe.csv', index = None, header=True)\n",
    "make_plot(\"Tensorflow Prediction\", *ar_train_and_predict_less_records('./export_dataframe.csv'))\n",
    "pyplot.show()\n"
   ]
  },
  {
   "cell_type": "markdown",
   "metadata": {},
   "source": [
    "## 6.3 Plot the created issues forecast  using fetched dataframe."
   ]
  },
  {
   "cell_type": "code",
   "execution_count": 14,
   "metadata": {
    "scrolled": false
   },
   "outputs": [
    {
     "name": "stdout",
     "output_type": "stream",
     "text": [
      "INFO:tensorflow:Using default config.\n",
      "WARNING:tensorflow:Using temporary folder as model directory: /var/folders/w5/4tlh63dx7yb713_mjd3r3bph0000gn/T/tmpfyv9thm1\n",
      "INFO:tensorflow:Using config: {'_save_summary_steps': 100, '_is_chief': True, '_keep_checkpoint_every_n_hours': 10000, '_save_checkpoints_steps': None, '_model_dir': '/var/folders/w5/4tlh63dx7yb713_mjd3r3bph0000gn/T/tmpfyv9thm1', '_task_type': 'worker', '_task_id': 0, '_num_worker_replicas': 1, '_save_checkpoints_secs': 600, '_service': None, '_num_ps_replicas': 0, '_keep_checkpoint_max': 5, '_master': '', '_tf_random_seed': None, '_session_config': None, '_device_fn': None, '_global_id_in_cluster': 0, '_evaluation_master': '', '_train_distribute': None, '_log_step_count_steps': 100, '_cluster_spec': <tensorflow.python.training.server_lib.ClusterSpec object at 0x1c2afffc18>}\n",
      "Data Converted to Reader\n",
      "INFO:tensorflow:Calling model_fn.\n",
      "INFO:tensorflow:Done calling model_fn.\n",
      "INFO:tensorflow:Create CheckpointSaverHook.\n",
      "INFO:tensorflow:Graph was finalized.\n",
      "INFO:tensorflow:Running local_init_op.\n",
      "INFO:tensorflow:Done running local_init_op.\n",
      "INFO:tensorflow:Saving checkpoints for 0 into /var/folders/w5/4tlh63dx7yb713_mjd3r3bph0000gn/T/tmpfyv9thm1/model.ckpt.\n",
      "INFO:tensorflow:loss = 1.2421794, step = 1\n",
      "INFO:tensorflow:global_step/sec: 190.753\n",
      "INFO:tensorflow:loss = -0.20062864, step = 101 (0.525 sec)\n",
      "INFO:tensorflow:global_step/sec: 522.663\n",
      "INFO:tensorflow:loss = -1.130299, step = 201 (0.191 sec)\n",
      "INFO:tensorflow:global_step/sec: 620.682\n",
      "INFO:tensorflow:loss = -1.6609457, step = 301 (0.161 sec)\n",
      "INFO:tensorflow:global_step/sec: 516.336\n",
      "INFO:tensorflow:loss = -1.6849813, step = 401 (0.194 sec)\n",
      "INFO:tensorflow:global_step/sec: 360.247\n",
      "INFO:tensorflow:loss = -1.9683247, step = 501 (0.278 sec)\n",
      "INFO:tensorflow:global_step/sec: 339.969\n",
      "INFO:tensorflow:loss = -2.199018, step = 601 (0.294 sec)\n",
      "INFO:tensorflow:global_step/sec: 328.091\n",
      "INFO:tensorflow:loss = -2.0379493, step = 701 (0.304 sec)\n",
      "INFO:tensorflow:global_step/sec: 368.483\n",
      "INFO:tensorflow:loss = -2.4490924, step = 801 (0.272 sec)\n",
      "INFO:tensorflow:global_step/sec: 346.129\n",
      "INFO:tensorflow:loss = -2.5813472, step = 901 (0.289 sec)\n",
      "INFO:tensorflow:Saving checkpoints for 1000 into /var/folders/w5/4tlh63dx7yb713_mjd3r3bph0000gn/T/tmpfyv9thm1/model.ckpt.\n",
      "INFO:tensorflow:Loss for final step: -2.4452074.\n",
      "INFO:tensorflow:Calling model_fn.\n",
      "INFO:tensorflow:Done calling model_fn.\n",
      "INFO:tensorflow:Starting evaluation at 2019-04-22-03:07:09\n",
      "INFO:tensorflow:Graph was finalized.\n",
      "INFO:tensorflow:Restoring parameters from /var/folders/w5/4tlh63dx7yb713_mjd3r3bph0000gn/T/tmpfyv9thm1/model.ckpt-1000\n",
      "INFO:tensorflow:Running local_init_op.\n",
      "INFO:tensorflow:Done running local_init_op.\n",
      "INFO:tensorflow:Evaluation [1/1]\n",
      "INFO:tensorflow:Finished evaluation at 2019-04-22-03:07:10\n",
      "INFO:tensorflow:Saving dict for global step 1000: covariance = [[[0.1353432 ]\n",
      "  [0.05623275]\n",
      "  [0.06725337]\n",
      "  [0.08064646]\n",
      "  [0.09613227]\n",
      "  [0.11317653]\n",
      "  [0.39415148]\n",
      "  [0.3840054 ]\n",
      "  [0.27618322]\n",
      "  [0.27769694]\n",
      "  [0.18691768]\n",
      "  [0.2899439 ]]], global_step = 1000, loss = -2.4786904, mean = [[[16.000107]\n",
      "  [32.958885]\n",
      "  [34.99887 ]\n",
      "  [11.000357]\n",
      "  [11.999994]\n",
      "  [ 9.999787]\n",
      "  [ 9.998669]\n",
      "  [ 9.99378 ]\n",
      "  [ 9.960602]\n",
      "  [11.995569]\n",
      "  [ 6.999097]\n",
      "  [ 7.999222]]], observed = [[[16.]\n",
      "  [33.]\n",
      "  [35.]\n",
      "  [11.]\n",
      "  [12.]\n",
      "  [10.]\n",
      "  [10.]\n",
      "  [10.]\n",
      "  [10.]\n",
      "  [12.]\n",
      "  [ 7.]\n",
      "  [ 8.]]], start_tuple = (array([[1554872400, 1554958800, 1555131600, 1555218000, 1555304400,\n",
      "        1555390800, 1555477200, 1555563600, 1555736400, 1555822800]]), array([[[ 1.4617653 ],\n",
      "        [-0.5420695 ],\n",
      "        [-0.4585764 ],\n",
      "        [-0.6255626 ],\n",
      "        [-0.6255626 ],\n",
      "        [-0.6255626 ],\n",
      "        [-0.6255626 ],\n",
      "        [-0.4585764 ],\n",
      "        [-0.87604195],\n",
      "        [-0.79254884]]], dtype=float32), array([], shape=(1, 10, 0), dtype=float32)), times = [[1554699600 1554786000 1554872400 1554958800 1555131600 1555218000\n",
      "  1555304400 1555390800 1555477200 1555563600 1555736400 1555822800]]\n",
      "WARNING:tensorflow:Skipping summary for mean, must be a float, np.float32, np.int64, np.int32 or int or a serialized string of Summary.\n",
      "WARNING:tensorflow:Skipping summary for observed, must be a float, np.float32, np.int64, np.int32 or int or a serialized string of Summary.\n",
      "WARNING:tensorflow:Skipping summary for times, must be a float, np.float32, np.int64, np.int32 or int or a serialized string of Summary.\n",
      "WARNING:tensorflow:Skipping summary for covariance, must be a float, np.float32, np.int64, np.int32 or int or a serialized string of Summary.\n",
      "WARNING:tensorflow:Skipping summary for start_tuple, must be a float, np.float32, np.int64, np.int32 or int or a serialized string of Summary.\n",
      "INFO:tensorflow:Saving 'checkpoint_path' summary for global step 1000: /var/folders/w5/4tlh63dx7yb713_mjd3r3bph0000gn/T/tmpfyv9thm1/model.ckpt-1000\n",
      "WARNING:tensorflow:Input graph does not use tf.data.Dataset or contain a QueueRunner. That means predict yields forever. This is probably a mistake.\n",
      "INFO:tensorflow:Calling model_fn.\n",
      "INFO:tensorflow:Done calling model_fn.\n",
      "INFO:tensorflow:Graph was finalized.\n",
      "INFO:tensorflow:Restoring parameters from /var/folders/w5/4tlh63dx7yb713_mjd3r3bph0000gn/T/tmpfyv9thm1/model.ckpt-1000\n",
      "INFO:tensorflow:Running local_init_op.\n",
      "INFO:tensorflow:Done running local_init_op.\n"
     ]
    },
    {
     "data": {
      "text/plain": [
       "<matplotlib.figure.Figure at 0xb1da7b588>"
      ]
     },
     "metadata": {},
     "output_type": "display_data"
    },
    {
     "data": {
      "image/png": "[encoded data removed]",
      "text/plain": [
       "<matplotlib.figure.Figure at 0x1c2b135c50>"
      ]
     },
     "metadata": {
      "needs_background": "light"
     },
     "output_type": "display_data"
    }
   ],
   "source": [
    "#Plot the created issues forecast by calling the Prophet.plot method and passing in your forecast dataframe.\n",
    "\n",
    "df = wrangled_issues_df.groupby('created_at')['created_at']\n",
    "#print(df.count().idxmax())\n",
    "df_new = df.describe()\n",
    "df_new['count']\n",
    "df_new['top']\n",
    "tdf = pd.DataFrame()\n",
    "tdf = df_new[['top','count']]\n",
    "tdf.columns = ['timestamp','value']\n",
    "#tdf['ts'] = tdf.datetime.values.astype(np.int64)\n",
    "export_csv = tdf.to_csv (r'./export_dataframe.csv', index = None, header=True) \n",
    "\n",
    "#make_plot(\"Structural ensemble\",*structural_ensemble_train_and_predict('./export_dataframe.csv'))\n",
    "make_plot(\"Tensorflow Prediction\", *ar_train_and_predict('./export_dataframe.csv'))\n",
    "pyplot.show()"
   ]
  },
  {
   "cell_type": "markdown",
   "metadata": {},
   "source": [
    "## 6.4 Plot the closed issues forecast on the received data."
   ]
  },
  {
   "cell_type": "code",
   "execution_count": 15,
   "metadata": {
    "scrolled": false
   },
   "outputs": [
    {
     "name": "stdout",
     "output_type": "stream",
     "text": [
      "INFO:tensorflow:Using default config.\n",
      "WARNING:tensorflow:Using temporary folder as model directory: /var/folders/w5/4tlh63dx7yb713_mjd3r3bph0000gn/T/tmpu5nrlm3g\n",
      "INFO:tensorflow:Using config: {'_save_summary_steps': 100, '_is_chief': True, '_keep_checkpoint_every_n_hours': 10000, '_save_checkpoints_steps': None, '_model_dir': '/var/folders/w5/4tlh63dx7yb713_mjd3r3bph0000gn/T/tmpu5nrlm3g', '_task_type': 'worker', '_task_id': 0, '_num_worker_replicas': 1, '_save_checkpoints_secs': 600, '_service': None, '_num_ps_replicas': 0, '_keep_checkpoint_max': 5, '_master': '', '_tf_random_seed': None, '_session_config': None, '_device_fn': None, '_global_id_in_cluster': 0, '_evaluation_master': '', '_train_distribute': None, '_log_step_count_steps': 100, '_cluster_spec': <tensorflow.python.training.server_lib.ClusterSpec object at 0x1c2999af28>}\n",
      "Data Converted to Reader\n",
      "INFO:tensorflow:Calling model_fn.\n",
      "INFO:tensorflow:Done calling model_fn.\n",
      "INFO:tensorflow:Create CheckpointSaverHook.\n",
      "INFO:tensorflow:Graph was finalized.\n",
      "INFO:tensorflow:Running local_init_op.\n",
      "INFO:tensorflow:Done running local_init_op.\n",
      "INFO:tensorflow:Saving checkpoints for 0 into /var/folders/w5/4tlh63dx7yb713_mjd3r3bph0000gn/T/tmpu5nrlm3g/model.ckpt.\n",
      "INFO:tensorflow:loss = 1.3598189, step = 1\n",
      "INFO:tensorflow:global_step/sec: 194.769\n",
      "INFO:tensorflow:loss = -0.58602965, step = 101 (0.515 sec)\n",
      "INFO:tensorflow:global_step/sec: 564.035\n",
      "INFO:tensorflow:loss = -0.9896015, step = 201 (0.176 sec)\n",
      "INFO:tensorflow:global_step/sec: 561.176\n",
      "INFO:tensorflow:loss = -1.5156934, step = 301 (0.178 sec)\n",
      "INFO:tensorflow:global_step/sec: 310.197\n",
      "INFO:tensorflow:loss = -1.1231952, step = 401 (0.322 sec)\n",
      "INFO:tensorflow:global_step/sec: 313.369\n",
      "INFO:tensorflow:loss = -1.7288736, step = 501 (0.319 sec)\n",
      "INFO:tensorflow:global_step/sec: 311.366\n",
      "INFO:tensorflow:loss = -1.2817029, step = 601 (0.321 sec)\n",
      "INFO:tensorflow:global_step/sec: 307.632\n",
      "INFO:tensorflow:loss = -1.8578562, step = 701 (0.325 sec)\n",
      "INFO:tensorflow:global_step/sec: 323.324\n",
      "INFO:tensorflow:loss = -2.2183995, step = 801 (0.309 sec)\n",
      "INFO:tensorflow:global_step/sec: 322.086\n",
      "INFO:tensorflow:loss = -2.5791798, step = 901 (0.311 sec)\n",
      "INFO:tensorflow:Saving checkpoints for 1000 into /var/folders/w5/4tlh63dx7yb713_mjd3r3bph0000gn/T/tmpu5nrlm3g/model.ckpt.\n",
      "INFO:tensorflow:Loss for final step: -2.545613.\n",
      "INFO:tensorflow:Calling model_fn.\n",
      "INFO:tensorflow:Done calling model_fn.\n",
      "INFO:tensorflow:Starting evaluation at 2019-04-22-03:07:16\n",
      "INFO:tensorflow:Graph was finalized.\n",
      "INFO:tensorflow:Restoring parameters from /var/folders/w5/4tlh63dx7yb713_mjd3r3bph0000gn/T/tmpu5nrlm3g/model.ckpt-1000\n",
      "INFO:tensorflow:Running local_init_op.\n",
      "INFO:tensorflow:Done running local_init_op.\n",
      "INFO:tensorflow:Evaluation [1/1]\n",
      "INFO:tensorflow:Finished evaluation at 2019-04-22-03:07:17\n",
      "INFO:tensorflow:Saving dict for global step 1000: covariance = [[[0.14957148]\n",
      "  [0.08413132]\n",
      "  [0.13870762]\n",
      "  [0.12251031]\n",
      "  [0.08711465]\n",
      "  [0.12403081]\n",
      "  [1.0522846 ]\n",
      "  [1.1227295 ]\n",
      "  [0.58389044]\n",
      "  [1.2942333 ]\n",
      "  [0.7540069 ]\n",
      "  [1.5279588 ]]], global_step = 1000, loss = -2.0223677, mean = [[[ 5.999566 ]\n",
      "  [16.497965 ]\n",
      "  [29.999136 ]\n",
      "  [34.999245 ]\n",
      "  [10.999026 ]\n",
      "  [12.000006 ]\n",
      "  [ 9.998091 ]\n",
      "  [ 9.7278805]\n",
      "  [ 7.0014114]\n",
      "  [ 4.002283 ]\n",
      "  [ 1.9984016]\n",
      "  [ 1.0006466]]], observed = [[[ 6.]\n",
      "  [16.]\n",
      "  [30.]\n",
      "  [35.]\n",
      "  [11.]\n",
      "  [12.]\n",
      "  [10.]\n",
      "  [10.]\n",
      "  [ 7.]\n",
      "  [ 4.]\n",
      "  [ 2.]\n",
      "  [ 1.]]], start_tuple = (array([[1554786000, 1554872400, 1554958800, 1555131600, 1555218000,\n",
      "        1555304400, 1555390800, 1555477200, 1555563600, 1555736400]]), array([[[ 1.0176729 ],\n",
      "        [ 1.4170502 ],\n",
      "        [-0.49996126],\n",
      "        [-0.4200858 ],\n",
      "        [-0.5798367 ],\n",
      "        [-0.5798367 ],\n",
      "        [-0.8194632 ],\n",
      "        [-1.0590897 ],\n",
      "        [-1.2188406 ],\n",
      "        [-1.2987161 ]]], dtype=float32), array([], shape=(1, 10, 0), dtype=float32)), times = [[1554613200 1554699600 1554786000 1554872400 1554958800 1555131600\n",
      "  1555218000 1555304400 1555390800 1555477200 1555563600 1555736400]]\n",
      "WARNING:tensorflow:Skipping summary for mean, must be a float, np.float32, np.int64, np.int32 or int or a serialized string of Summary.\n",
      "WARNING:tensorflow:Skipping summary for observed, must be a float, np.float32, np.int64, np.int32 or int or a serialized string of Summary.\n",
      "WARNING:tensorflow:Skipping summary for times, must be a float, np.float32, np.int64, np.int32 or int or a serialized string of Summary.\n",
      "WARNING:tensorflow:Skipping summary for covariance, must be a float, np.float32, np.int64, np.int32 or int or a serialized string of Summary.\n",
      "WARNING:tensorflow:Skipping summary for start_tuple, must be a float, np.float32, np.int64, np.int32 or int or a serialized string of Summary.\n",
      "INFO:tensorflow:Saving 'checkpoint_path' summary for global step 1000: /var/folders/w5/4tlh63dx7yb713_mjd3r3bph0000gn/T/tmpu5nrlm3g/model.ckpt-1000\n",
      "WARNING:tensorflow:Input graph does not use tf.data.Dataset or contain a QueueRunner. That means predict yields forever. This is probably a mistake.\n",
      "INFO:tensorflow:Calling model_fn.\n",
      "INFO:tensorflow:Done calling model_fn.\n",
      "INFO:tensorflow:Graph was finalized.\n",
      "INFO:tensorflow:Restoring parameters from /var/folders/w5/4tlh63dx7yb713_mjd3r3bph0000gn/T/tmpu5nrlm3g/model.ckpt-1000\n",
      "INFO:tensorflow:Running local_init_op.\n",
      "INFO:tensorflow:Done running local_init_op.\n"
     ]
    },
    {
     "data": {
      "text/plain": [
       "<matplotlib.figure.Figure at 0x1c2a3ae860>"
      ]
     },
     "metadata": {},
     "output_type": "display_data"
    },
    {
     "data": {
      "image/png": "[encoded data removed]",
      "text/plain": [
       "<matplotlib.figure.Figure at 0x1c2a3c7198>"
      ]
     },
     "metadata": {
      "needs_background": "light"
     },
     "output_type": "display_data"
    }
   ],
   "source": [
    "#Plot the closed issues forecast; use the Prophet.plot_components method. \n",
    "# By default you’ll see the trend, yearly seasonality, and weekly seasonality of the time series.\n",
    "# If you include holidays, you’ll see those here, too.\n",
    "\n",
    "df_closed = wrangled_issues_df[(wrangled_issues_df['State'] == 'closed')]\n",
    "df_closed_gby = df_closed.groupby(['created_at','State'])['created_at']\n",
    "#df = wrangled_issues_df.groupby('created_at')['created_at']\n",
    "#print(df.count().idxmax())\n",
    "df_new = df_closed_gby.describe()\n",
    "df_new['count']\n",
    "df_new['top']\n",
    "tdf = pd.DataFrame()\n",
    "tdf = df_new[['top','count']]\n",
    "tdf.columns = ['timestamp','value']\n",
    "#tdf['ts'] = tdf.datetime.values.astype(np.int64)\n",
    "export_csv = tdf.to_csv (r'./export_dataframe.csv', index = None, header=True) \n",
    "\n",
    "#make_plot(\"Structural ensemble\",*structural_ensemble_train_and_predict('./export_dataframe.csv'))\n",
    "make_plot(\"Tensorflow Prediction\", *ar_train_and_predict('./export_dataframe.csv'))\n",
    "pyplot.show()"
   ]
  },
  {
   "cell_type": "markdown",
   "metadata": {},
   "source": [
    "## Reading saved JSON file for fetched pulls"
   ]
  },
  {
   "cell_type": "code",
   "execution_count": 16,
   "metadata": {},
   "outputs": [],
   "source": [
    "# Read the JSON file into a list of dictionaries\n",
    "\n",
    "import json\n",
    "list_of_pulls_dict_data = [json.loads(line) for line in open('SPM587SP19pulls.json')]\n",
    "\n",
    "# Create the DataFrame object for the list_of_issues_dict_data object\n",
    "\n",
    "pulls_df = DataFrame(list_of_pulls_dict_data)"
   ]
  },
  {
   "cell_type": "code",
   "execution_count": 17,
   "metadata": {},
   "outputs": [
    {
     "data": {
      "text/html": [
       "<div>\n",
       "<style scoped>\n",
       "    .dataframe tbody tr th:only-of-type {\n",
       "        vertical-align: middle;\n",
       "    }\n",
       "\n",
       "    .dataframe tbody tr th {\n",
       "        vertical-align: top;\n",
       "    }\n",
       "\n",
       "    .dataframe thead th {\n",
       "        text-align: right;\n",
       "    }\n",
       "</style>\n",
       "<table border=\"1\" class=\"dataframe\">\n",
       "  <thead>\n",
       "    <tr style=\"text-align: right;\">\n",
       "      <th></th>\n",
       "      <th>Author</th>\n",
       "      <th>State</th>\n",
       "      <th>closed_at</th>\n",
       "      <th>created_at</th>\n",
       "      <th>issue_number</th>\n",
       "      <th>labels</th>\n",
       "    </tr>\n",
       "  </thead>\n",
       "  <tbody>\n",
       "    <tr>\n",
       "      <th>0</th>\n",
       "      <td>JSP19SCM03G</td>\n",
       "      <td>closed</td>\n",
       "      <td>2019-04-20</td>\n",
       "      <td>2019-04-20</td>\n",
       "      <td>481</td>\n",
       "      <td>[]</td>\n",
       "    </tr>\n",
       "    <tr>\n",
       "      <th>1</th>\n",
       "      <td>YSP19SCM26X</td>\n",
       "      <td>closed</td>\n",
       "      <td>2019-04-19</td>\n",
       "      <td>2019-04-19</td>\n",
       "      <td>478</td>\n",
       "      <td>[]</td>\n",
       "    </tr>\n",
       "    <tr>\n",
       "      <th>2</th>\n",
       "      <td>YSP19SCM26X</td>\n",
       "      <td>closed</td>\n",
       "      <td>2019-04-18</td>\n",
       "      <td>2019-04-18</td>\n",
       "      <td>466</td>\n",
       "      <td>[]</td>\n",
       "    </tr>\n",
       "    <tr>\n",
       "      <th>3</th>\n",
       "      <td>SSP19SCM81Y</td>\n",
       "      <td>closed</td>\n",
       "      <td>2019-04-20</td>\n",
       "      <td>2019-04-13</td>\n",
       "      <td>424</td>\n",
       "      <td>[]</td>\n",
       "    </tr>\n",
       "    <tr>\n",
       "      <th>4</th>\n",
       "      <td>JSP19SCM33G</td>\n",
       "      <td>closed</td>\n",
       "      <td>2019-04-11</td>\n",
       "      <td>2019-04-11</td>\n",
       "      <td>411</td>\n",
       "      <td>[]</td>\n",
       "    </tr>\n",
       "  </tbody>\n",
       "</table>\n",
       "</div>"
      ],
      "text/plain": [
       "        Author   State   closed_at  created_at  issue_number labels\n",
       "0  JSP19SCM03G  closed  2019-04-20  2019-04-20           481     []\n",
       "1  YSP19SCM26X  closed  2019-04-19  2019-04-19           478     []\n",
       "2  YSP19SCM26X  closed  2019-04-18  2019-04-18           466     []\n",
       "3  SSP19SCM81Y  closed  2019-04-20  2019-04-13           424     []\n",
       "4  JSP19SCM33G  closed  2019-04-11  2019-04-11           411     []"
      ]
     },
     "execution_count": 17,
     "metadata": {},
     "output_type": "execute_result"
    }
   ],
   "source": [
    "# Sanity Check\n",
    "pulls_df[:5]"
   ]
  },
  {
   "cell_type": "markdown",
   "metadata": {},
   "source": [
    "## 6.5 Plot the pulls forecast based on the received data. "
   ]
  },
  {
   "cell_type": "code",
   "execution_count": 18,
   "metadata": {
    "scrolled": false
   },
   "outputs": [
    {
     "name": "stdout",
     "output_type": "stream",
     "text": [
      "INFO:tensorflow:Using default config.\n",
      "WARNING:tensorflow:Using temporary folder as model directory: /var/folders/w5/4tlh63dx7yb713_mjd3r3bph0000gn/T/tmpgbjd9ymz\n",
      "INFO:tensorflow:Using config: {'_save_summary_steps': 100, '_is_chief': True, '_keep_checkpoint_every_n_hours': 10000, '_save_checkpoints_steps': None, '_model_dir': '/var/folders/w5/4tlh63dx7yb713_mjd3r3bph0000gn/T/tmpgbjd9ymz', '_task_type': 'worker', '_task_id': 0, '_num_worker_replicas': 1, '_save_checkpoints_secs': 600, '_service': None, '_num_ps_replicas': 0, '_keep_checkpoint_max': 5, '_master': '', '_tf_random_seed': None, '_session_config': None, '_device_fn': None, '_global_id_in_cluster': 0, '_evaluation_master': '', '_train_distribute': None, '_log_step_count_steps': 100, '_cluster_spec': <tensorflow.python.training.server_lib.ClusterSpec object at 0x1c2b12a898>}\n",
      "Data Converted to Reader\n",
      "INFO:tensorflow:Calling model_fn.\n",
      "INFO:tensorflow:Done calling model_fn.\n",
      "INFO:tensorflow:Create CheckpointSaverHook.\n",
      "INFO:tensorflow:Graph was finalized.\n",
      "INFO:tensorflow:Running local_init_op.\n",
      "INFO:tensorflow:Done running local_init_op.\n",
      "INFO:tensorflow:Saving checkpoints for 0 into /var/folders/w5/4tlh63dx7yb713_mjd3r3bph0000gn/T/tmpgbjd9ymz/model.ckpt.\n",
      "INFO:tensorflow:loss = 1.3229316, step = 1\n",
      "INFO:tensorflow:global_step/sec: 89.4949\n",
      "INFO:tensorflow:loss = -1.487685, step = 101 (1.119 sec)\n",
      "INFO:tensorflow:global_step/sec: 64.5726\n",
      "INFO:tensorflow:loss = -1.8184848, step = 201 (1.548 sec)\n",
      "INFO:tensorflow:global_step/sec: 71.7613\n",
      "INFO:tensorflow:loss = -2.0746126, step = 301 (1.393 sec)\n",
      "INFO:tensorflow:global_step/sec: 77.8238\n",
      "INFO:tensorflow:loss = 4.81409, step = 401 (1.286 sec)\n",
      "INFO:tensorflow:global_step/sec: 67.1103\n",
      "INFO:tensorflow:loss = -2.3595777, step = 501 (1.492 sec)\n",
      "INFO:tensorflow:global_step/sec: 65.5421\n",
      "INFO:tensorflow:loss = -2.4523187, step = 601 (1.524 sec)\n",
      "INFO:tensorflow:global_step/sec: 55.6399\n",
      "INFO:tensorflow:loss = -2.5094566, step = 701 (1.797 sec)\n",
      "INFO:tensorflow:global_step/sec: 66.5904\n",
      "INFO:tensorflow:loss = -2.6056592, step = 801 (1.501 sec)\n",
      "INFO:tensorflow:global_step/sec: 63.1512\n",
      "INFO:tensorflow:loss = -2.6124809, step = 901 (1.583 sec)\n",
      "INFO:tensorflow:Saving checkpoints for 1000 into /var/folders/w5/4tlh63dx7yb713_mjd3r3bph0000gn/T/tmpgbjd9ymz/model.ckpt.\n",
      "INFO:tensorflow:Loss for final step: -2.721119.\n",
      "INFO:tensorflow:Calling model_fn.\n",
      "INFO:tensorflow:Done calling model_fn.\n",
      "INFO:tensorflow:Starting evaluation at 2019-04-22-03:07:35\n",
      "INFO:tensorflow:Graph was finalized.\n",
      "INFO:tensorflow:Restoring parameters from /var/folders/w5/4tlh63dx7yb713_mjd3r3bph0000gn/T/tmpgbjd9ymz/model.ckpt-1000\n",
      "INFO:tensorflow:Running local_init_op.\n",
      "INFO:tensorflow:Done running local_init_op.\n",
      "INFO:tensorflow:Evaluation [1/1]\n",
      "INFO:tensorflow:Finished evaluation at 2019-04-22-03:07:35\n",
      "INFO:tensorflow:Saving dict for global step 1000: covariance = [[[0.06714918]\n",
      "  [0.03899154]\n",
      "  [0.06853467]\n",
      "  [0.04461586]\n",
      "  [0.05990832]\n",
      "  [0.06319306]]], global_step = 1000, loss = -2.7239926, mean = [[[19.000784  ]\n",
      "  [ 2.0000005 ]\n",
      "  [ 1.0000005 ]\n",
      "  [ 0.9999981 ]\n",
      "  [ 1.0000005 ]\n",
      "  [ 0.99999905]]], observed = [[[19.]\n",
      "  [ 2.]\n",
      "  [ 1.]\n",
      "  [ 1.]\n",
      "  [ 1.]\n",
      "  [ 1.]]], start_tuple = (array([[1554526800, 1554613200, 1554699600, 1554786000, 1554872400,\n",
      "        1554958800, 1555131600, 1555563600, 1555650000, 1555736400]]), array([[[-0.4915516 ],\n",
      "        [-0.27000722],\n",
      "        [-0.27000722],\n",
      "        [ 1.5023478 ],\n",
      "        [ 1.1700313 ],\n",
      "        [-0.71309596],\n",
      "        [-0.82386816],\n",
      "        [-0.82386816],\n",
      "        [-0.82386816],\n",
      "        [-0.82386816]]], dtype=float32), array([], shape=(1, 10, 0), dtype=float32)), times = [[1554872400 1554958800 1555131600 1555563600 1555650000 1555736400]]\n",
      "WARNING:tensorflow:Skipping summary for mean, must be a float, np.float32, np.int64, np.int32 or int or a serialized string of Summary.\n",
      "WARNING:tensorflow:Skipping summary for observed, must be a float, np.float32, np.int64, np.int32 or int or a serialized string of Summary.\n",
      "WARNING:tensorflow:Skipping summary for times, must be a float, np.float32, np.int64, np.int32 or int or a serialized string of Summary.\n",
      "WARNING:tensorflow:Skipping summary for covariance, must be a float, np.float32, np.int64, np.int32 or int or a serialized string of Summary.\n",
      "WARNING:tensorflow:Skipping summary for start_tuple, must be a float, np.float32, np.int64, np.int32 or int or a serialized string of Summary.\n",
      "INFO:tensorflow:Saving 'checkpoint_path' summary for global step 1000: /var/folders/w5/4tlh63dx7yb713_mjd3r3bph0000gn/T/tmpgbjd9ymz/model.ckpt-1000\n",
      "WARNING:tensorflow:Input graph does not use tf.data.Dataset or contain a QueueRunner. That means predict yields forever. This is probably a mistake.\n",
      "INFO:tensorflow:Calling model_fn.\n",
      "INFO:tensorflow:Done calling model_fn.\n",
      "INFO:tensorflow:Graph was finalized.\n",
      "INFO:tensorflow:Restoring parameters from /var/folders/w5/4tlh63dx7yb713_mjd3r3bph0000gn/T/tmpgbjd9ymz/model.ckpt-1000\n",
      "INFO:tensorflow:Running local_init_op.\n",
      "INFO:tensorflow:Done running local_init_op.\n"
     ]
    },
    {
     "data": {
      "text/plain": [
       "<matplotlib.figure.Figure at 0x1c2b1c06d8>"
      ]
     },
     "metadata": {},
     "output_type": "display_data"
    },
    {
     "data": {
      "image/png": "[encoded data removed]",
      "text/plain": [
       "<matplotlib.figure.Figure at 0x1c2994c208>"
      ]
     },
     "metadata": {
      "needs_background": "light"
     },
     "output_type": "display_data"
    }
   ],
   "source": [
    "# Plot the pulls forecast; use the Prophet.plot_components method. \n",
    "# By default you’ll see the trend, yearly seasonality, and weekly seasonality of the time series. \n",
    "# If you include holidays, you’ll see those here, too.\n",
    "\n",
    "df_pulls_gby = pulls_df.groupby('created_at')['created_at']\n",
    "#df = wrangled_issues_df.groupby('created_at')['created_at']\n",
    "#print(df.count().idxmax())\n",
    "df_new = df_pulls_gby.describe()\n",
    "df_new['count']\n",
    "df_new['top']\n",
    "tdf = pd.DataFrame()\n",
    "tdf = df_new[['top','count']]\n",
    "tdf.columns = ['timestamp','value']\n",
    "#tdf['ts'] = tdf.datetime.values.astype(np.int64)\n",
    "export_csv = tdf.to_csv (r'./export_dataframe.csv', index = None, header=True) \n",
    "\n",
    "#make_plot(\"Structural ensemble\",*structural_ensemble_train_and_predict('./export_dataframe.csv'))\n",
    "make_plot(\"Tensorflow Prediction\", *ar_train_and_predict('./export_dataframe.csv'))\n",
    "pyplot.show()"
   ]
  },
  {
   "cell_type": "markdown",
   "metadata": {},
   "source": [
    "## Reading saved JSON file for fetched commits"
   ]
  },
  {
   "cell_type": "code",
   "execution_count": 19,
   "metadata": {},
   "outputs": [],
   "source": [
    "# Read the JSON file into a list of dictionaries\n",
    "\n",
    "import json\n",
    "\n",
    "file = open(\"SPM587SP19commits.json\", \"r\") \n",
    "list_of_commit_dict_data = [json.loads(line) for line in open('SPM587SP19commits.json')]\n",
    "commits_df = DataFrame(list_of_commit_dict_data)"
   ]
  },
  {
   "cell_type": "code",
   "execution_count": 20,
   "metadata": {},
   "outputs": [
    {
     "data": {
      "text/html": [
       "<div>\n",
       "<style scoped>\n",
       "    .dataframe tbody tr th:only-of-type {\n",
       "        vertical-align: middle;\n",
       "    }\n",
       "\n",
       "    .dataframe tbody tr th {\n",
       "        vertical-align: top;\n",
       "    }\n",
       "\n",
       "    .dataframe thead th {\n",
       "        text-align: right;\n",
       "    }\n",
       "</style>\n",
       "<table border=\"1\" class=\"dataframe\">\n",
       "  <thead>\n",
       "    <tr style=\"text-align: right;\">\n",
       "      <th></th>\n",
       "      <th>created_at</th>\n",
       "    </tr>\n",
       "  </thead>\n",
       "  <tbody>\n",
       "    <tr>\n",
       "      <th>0</th>\n",
       "      <td>2019-04-20</td>\n",
       "    </tr>\n",
       "    <tr>\n",
       "      <th>1</th>\n",
       "      <td>2019-04-20</td>\n",
       "    </tr>\n",
       "    <tr>\n",
       "      <th>2</th>\n",
       "      <td>2019-04-20</td>\n",
       "    </tr>\n",
       "    <tr>\n",
       "      <th>3</th>\n",
       "      <td>2019-04-20</td>\n",
       "    </tr>\n",
       "    <tr>\n",
       "      <th>4</th>\n",
       "      <td>2019-04-20</td>\n",
       "    </tr>\n",
       "  </tbody>\n",
       "</table>\n",
       "</div>"
      ],
      "text/plain": [
       "   created_at\n",
       "0  2019-04-20\n",
       "1  2019-04-20\n",
       "2  2019-04-20\n",
       "3  2019-04-20\n",
       "4  2019-04-20"
      ]
     },
     "execution_count": 20,
     "metadata": {},
     "output_type": "execute_result"
    }
   ],
   "source": [
    "# Sanity Check\n",
    "commits_df[:5]"
   ]
  },
  {
   "cell_type": "markdown",
   "metadata": {},
   "source": [
    "## 6.6 Plot the commits forecast based on received data.\n"
   ]
  },
  {
   "cell_type": "code",
   "execution_count": 22,
   "metadata": {
    "scrolled": false
   },
   "outputs": [
    {
     "name": "stdout",
     "output_type": "stream",
     "text": [
      "INFO:tensorflow:Using default config.\n",
      "WARNING:tensorflow:Using temporary folder as model directory: /var/folders/w5/4tlh63dx7yb713_mjd3r3bph0000gn/T/tmpq44cufms\n",
      "INFO:tensorflow:Using config: {'_save_summary_steps': 100, '_is_chief': True, '_keep_checkpoint_every_n_hours': 10000, '_save_checkpoints_steps': None, '_model_dir': '/var/folders/w5/4tlh63dx7yb713_mjd3r3bph0000gn/T/tmpq44cufms', '_task_type': 'worker', '_task_id': 0, '_num_worker_replicas': 1, '_save_checkpoints_secs': 600, '_service': None, '_num_ps_replicas': 0, '_keep_checkpoint_max': 5, '_master': '', '_tf_random_seed': None, '_session_config': None, '_device_fn': None, '_global_id_in_cluster': 0, '_evaluation_master': '', '_train_distribute': None, '_log_step_count_steps': 100, '_cluster_spec': <tensorflow.python.training.server_lib.ClusterSpec object at 0x1c29e50ef0>}\n",
      "Data Converted to Reader\n",
      "INFO:tensorflow:Calling model_fn.\n",
      "INFO:tensorflow:Done calling model_fn.\n",
      "INFO:tensorflow:Create CheckpointSaverHook.\n",
      "INFO:tensorflow:Graph was finalized.\n",
      "INFO:tensorflow:Running local_init_op.\n",
      "INFO:tensorflow:Done running local_init_op.\n",
      "INFO:tensorflow:Saving checkpoints for 0 into /var/folders/w5/4tlh63dx7yb713_mjd3r3bph0000gn/T/tmpq44cufms/model.ckpt.\n",
      "INFO:tensorflow:loss = 1.4905193, step = 1\n",
      "INFO:tensorflow:global_step/sec: 151.568\n",
      "INFO:tensorflow:loss = -0.9666232, step = 101 (0.662 sec)\n",
      "INFO:tensorflow:global_step/sec: 272.456\n",
      "INFO:tensorflow:loss = -2.0151072, step = 201 (0.366 sec)\n",
      "INFO:tensorflow:global_step/sec: 187.374\n",
      "INFO:tensorflow:loss = -0.4078474, step = 301 (0.534 sec)\n",
      "INFO:tensorflow:global_step/sec: 165.773\n",
      "INFO:tensorflow:loss = -2.460095, step = 401 (0.604 sec)\n",
      "INFO:tensorflow:global_step/sec: 183.206\n",
      "INFO:tensorflow:loss = -2.6867256, step = 501 (0.545 sec)\n",
      "INFO:tensorflow:global_step/sec: 172.294\n",
      "INFO:tensorflow:loss = -2.749893, step = 601 (0.581 sec)\n",
      "INFO:tensorflow:global_step/sec: 162.607\n",
      "INFO:tensorflow:loss = -2.8156595, step = 701 (0.615 sec)\n",
      "INFO:tensorflow:global_step/sec: 168.194\n",
      "INFO:tensorflow:loss = -2.9153602, step = 801 (0.596 sec)\n",
      "INFO:tensorflow:global_step/sec: 174.701\n",
      "INFO:tensorflow:loss = -2.9385352, step = 901 (0.571 sec)\n",
      "INFO:tensorflow:Saving checkpoints for 1000 into /var/folders/w5/4tlh63dx7yb713_mjd3r3bph0000gn/T/tmpq44cufms/model.ckpt.\n",
      "INFO:tensorflow:Loss for final step: -2.991539.\n",
      "INFO:tensorflow:Calling model_fn.\n",
      "INFO:tensorflow:Done calling model_fn.\n",
      "INFO:tensorflow:Starting evaluation at 2019-04-22-03:08:27\n",
      "INFO:tensorflow:Graph was finalized.\n",
      "INFO:tensorflow:Restoring parameters from /var/folders/w5/4tlh63dx7yb713_mjd3r3bph0000gn/T/tmpq44cufms/model.ckpt-1000\n",
      "INFO:tensorflow:Running local_init_op.\n",
      "INFO:tensorflow:Done running local_init_op.\n",
      "INFO:tensorflow:Evaluation [1/1]\n",
      "INFO:tensorflow:Finished evaluation at 2019-04-22-03:08:28\n",
      "INFO:tensorflow:Saving dict for global step 1000: covariance = [[[0.22480734]\n",
      "  [0.30261004]\n",
      "  [0.320968  ]\n",
      "  [0.28530777]\n",
      "  [0.21851565]\n",
      "  [0.23004414]]], global_step = 1000, loss = -2.5611658, mean = [[[58.00007   ]\n",
      "  [ 3.0000534 ]\n",
      "  [ 0.99999046]\n",
      "  [ 4.003149  ]\n",
      "  [ 0.84597206]\n",
      "  [ 4.863447  ]]], observed = [[[58.]\n",
      "  [ 3.]\n",
      "  [ 1.]\n",
      "  [ 4.]\n",
      "  [ 2.]\n",
      "  [ 5.]]], start_tuple = (array([[1554526800, 1554613200, 1554699600, 1554786000, 1554872400,\n",
      "        1554958800, 1555131600, 1555563600, 1555650000, 1555736400]]), array([[[-0.7118377 ],\n",
      "        [-0.53149813],\n",
      "        [-0.3872265 ],\n",
      "        [ 1.2358296 ],\n",
      "        [ 1.127626  ],\n",
      "        [-0.8561094 ],\n",
      "        [-0.92824525],\n",
      "        [-0.8200415 ],\n",
      "        [-0.8921773 ],\n",
      "        [-0.7839736 ]]], dtype=float32), array([], shape=(1, 10, 0), dtype=float32)), times = [[1554872400 1554958800 1555131600 1555563600 1555650000 1555736400]]\n",
      "WARNING:tensorflow:Skipping summary for mean, must be a float, np.float32, np.int64, np.int32 or int or a serialized string of Summary.\n",
      "WARNING:tensorflow:Skipping summary for observed, must be a float, np.float32, np.int64, np.int32 or int or a serialized string of Summary.\n",
      "WARNING:tensorflow:Skipping summary for times, must be a float, np.float32, np.int64, np.int32 or int or a serialized string of Summary.\n",
      "WARNING:tensorflow:Skipping summary for covariance, must be a float, np.float32, np.int64, np.int32 or int or a serialized string of Summary.\n",
      "WARNING:tensorflow:Skipping summary for start_tuple, must be a float, np.float32, np.int64, np.int32 or int or a serialized string of Summary.\n",
      "INFO:tensorflow:Saving 'checkpoint_path' summary for global step 1000: /var/folders/w5/4tlh63dx7yb713_mjd3r3bph0000gn/T/tmpq44cufms/model.ckpt-1000\n",
      "WARNING:tensorflow:Input graph does not use tf.data.Dataset or contain a QueueRunner. That means predict yields forever. This is probably a mistake.\n",
      "INFO:tensorflow:Calling model_fn.\n",
      "INFO:tensorflow:Done calling model_fn.\n",
      "INFO:tensorflow:Graph was finalized.\n",
      "INFO:tensorflow:Restoring parameters from /var/folders/w5/4tlh63dx7yb713_mjd3r3bph0000gn/T/tmpq44cufms/model.ckpt-1000\n",
      "INFO:tensorflow:Running local_init_op.\n",
      "INFO:tensorflow:Done running local_init_op.\n"
     ]
    },
    {
     "data": {
      "text/plain": [
       "<matplotlib.figure.Figure at 0x1c2a09f160>"
      ]
     },
     "metadata": {},
     "output_type": "display_data"
    },
    {
     "data": {
      "image/png": "[encoded data removed]",
      "text/plain": [
       "<matplotlib.figure.Figure at 0x1c298e7898>"
      ]
     },
     "metadata": {
      "needs_background": "light"
     },
     "output_type": "display_data"
    }
   ],
   "source": [
    "# Plot the commits forecast; use the Prophet.plot_components method. \n",
    "# By default you’ll see the trend, yearly seasonality, and weekly seasonality of the time series. \n",
    "# If you include holidays, you’ll see those here, too.\n",
    "\n",
    "df_commits_gby = commits_df.groupby('created_at')['created_at']\n",
    "df_new = df_commits_gby.describe()\n",
    "df_new['count']\n",
    "df_new['top']\n",
    "tdf = pd.DataFrame()\n",
    "tdf = df_new[['top','count']]\n",
    "tdf.columns = ['timestamp','value']\n",
    "export_csv = tdf.to_csv (r'./export_dataframe.csv', index = None, header=True) \n",
    "\n",
    "make_plot(\"Tensorflow Prediction\", *ar_train_and_predict('./export_dataframe.csv'))\n",
    "pyplot.show()"
   ]
  }
 ],
 "metadata": {
  "kernelspec": {
   "display_name": "Python 3",
   "language": "python",
   "name": "python3"
  },
  "language_info": {
   "codemirror_mode": {
    "name": "ipython",
    "version": 3
   },
   "file_extension": ".py",
   "mimetype": "text/x-python",
   "name": "python",
   "nbconvert_exporter": "python",
   "pygments_lexer": "ipython3",
   "version": "3.7.4"
  }
 },
 "nbformat": 4,
 "nbformat_minor": 2
}
