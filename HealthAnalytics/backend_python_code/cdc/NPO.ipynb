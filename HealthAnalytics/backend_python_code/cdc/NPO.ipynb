{
 "cells": [
  {
   "cell_type": "code",
   "execution_count": 8,
   "metadata": {},
   "outputs": [],
   "source": [
    "import json\n",
    "import requests\n",
    "import datetime\n",
    "import time\n",
    "import os\n",
    "import psycopg2\n",
    "import pandas as pd\n",
    "from urllib.request import urlopen\n",
    "import json\n",
    "import csv\n",
    "from pprint import pprint\n",
    "from psycopg2.extensions import ISOLATION_LEVEL_AUTOCOMMIT \n",
    "from datetime import datetime\n",
    "import io\n",
    "import numpy as np"
   ]
  },
  {
   "cell_type": "code",
   "execution_count": 9,
   "metadata": {},
   "outputs": [],
   "source": [
    "#Use default user name as postgres ,if username root is not working\n",
    "# cursor.execute(\"CREATE DATABASE UML_PROJECT;\")\n",
    "#db_connection.commit()\n",
    "db_connection = psycopg2.connect(host='127.0.0.1',dbname=\"uml_project\", user=\"postgres\" , password=\"root\")\n"
   ]
  },
  {
   "cell_type": "code",
   "execution_count": 11,
   "metadata": {},
   "outputs": [],
   "source": [
    "#API\n",
    "#!/usr/bin/env python\n",
    "# make sure to install these packages before running:\n",
    "# pip install pandas\n",
    "# pip install sodapy\n",
    "\n",
    "import pandas as pd\n",
    "from sodapy import Socrata\n",
    "\n",
    "client = Socrata(\"chronicdata.cdc.gov\",\"3W89WHwAO0hkrPmxzFUIMB4n1\")\n",
    "results = client.get(\"hn4x-zwk7\")\n",
    "results_df = pd.DataFrame.from_records(results)\n"
   ]
  },
  {
   "cell_type": "code",
   "execution_count": 12,
   "metadata": {},
   "outputs": [],
   "source": [
    "db_connection.set_isolation_level(ISOLATION_LEVEL_AUTOCOMMIT) \n",
    "cursor = db_connection.cursor()"
   ]
  },
  {
   "cell_type": "code",
   "execution_count": 13,
   "metadata": {},
   "outputs": [],
   "source": [
    "db_connection.commit()"
   ]
  },
  {
   "cell_type": "code",
   "execution_count": 14,
   "metadata": {},
   "outputs": [],
   "source": [
    "cursor.execute(\"DROP TABLE IF EXISTS chronic\")\n",
    "db_connection.commit()\n",
    "cursor.execute(\"\"\"CREATE TABLE chronic(\n",
    "                YearStart TEXT,\n",
    "                YearEnd TEXT,\n",
    "                LocationAbbr TEXT,\n",
    "                LocationDesc TEXT,\n",
    "                DataSource TEXT,\n",
    "                Class TEXT,\n",
    "                Topic TEXT,\n",
    "                Question TEXT,\n",
    "                Data_Value_Unit TEXT,\n",
    "                Data_Value_Type TEXT,\n",
    "                Data_Value TEXT,\n",
    "                Data_Value_Alt TEXT,\n",
    "                Data_Value_Footnote_Symbol TEXT,\n",
    "                Data_Value_Footnote TEXT,\n",
    "                Low_Confidence_Limit TEXT,\n",
    "                High_Confidence_Limit TEXT,\n",
    "                Sample_Size TEXT,\n",
    "                Total TEXT,\n",
    "                Age TEXT,\n",
    "                Education TEXT,\n",
    "                Gender TEXT,\n",
    "                Income TEXT,\n",
    "                Race_Ethnicity TEXT,\n",
    "                GeoLocation TEXT,\n",
    "                ClassID TEXT,\n",
    "                TopicID TEXT,\n",
    "                QuestionID TEXT,\n",
    "                DataValueTypeID TEXT,\n",
    "                LocationID TEXT,\n",
    "                StratificationCategory1 TEXT,\n",
    "                Stratification1 TEXT,\n",
    "                StratificationCategoryId1 TEXT,\n",
    "                StratificationID1 TEXT);\"\"\")\n",
    "db_connection.commit()"
   ]
  },
  {
   "cell_type": "code",
   "execution_count": 15,
   "metadata": {},
   "outputs": [],
   "source": [
    "csv_file_name = 'cdc_npao.csv'\n",
    "sql = \"COPY chronic FROM STDIN DELIMITER ',' CSV HEADER\"\n",
    "cursor.copy_expert(sql, open(csv_file_name, \"r\"))\n",
    "db_connection.commit()"
   ]
  }
 ],
 "metadata": {
  "kernelspec": {
   "display_name": "Python 3",
   "language": "python",
   "name": "python3"
  },
  "language_info": {
   "codemirror_mode": {
    "name": "ipython",
    "version": 3
   },
   "file_extension": ".py",
   "mimetype": "text/x-python",
   "name": "python",
   "nbconvert_exporter": "python",
   "pygments_lexer": "ipython3",
   "version": "3.7.4"
  }
 },
 "nbformat": 4,
 "nbformat_minor": 2
}
